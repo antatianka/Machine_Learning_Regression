{
 "cells": [
  {
   "cell_type": "code",
   "execution_count": 1,
   "metadata": {
    "collapsed": false
   },
   "outputs": [],
   "source": [
    "\n",
    "import random\n",
    "import numpy as np\n",
    "import pandas as pd\n",
    "from sklearn import  linear_model\n",
    "from matplotlib import pyplot as plt\n",
    "%matplotlib inline\n",
    "from sklearn.linear_model import Ridge\n",
    "from sklearn.cross_validation import KFold\n",
    "from sys import stdout\n",
    "from  math import sqrt"
   ]
  },
  {
   "cell_type": "code",
   "execution_count": 2,
   "metadata": {
    "collapsed": false
   },
   "outputs": [],
   "source": [
    "sales = pd.read_csv('kc_house_data.csv', dtype=dict)"
   ]
  },
  {
   "cell_type": "code",
   "execution_count": 48,
   "metadata": {
    "collapsed": false
   },
   "outputs": [],
   "source": [
    "def get_numpy_data(data, features, output):\n",
    "\n",
    "    #Adding a constant collumn with value 1 in the dataframe.\n",
    "    data['constant'] = 1    \n",
    "    #Adding the name of the constant collumn in the feature list.\n",
    "    features = ['constant'] + features\n",
    "    #Creating Feature matrix(Selecting columns and coverting to matrix).\n",
    "    features_matrix=data[features].as_matrix()\n",
    "    \n",
    "    #Target collumn is converted to the numpy array\n",
    "    output_array=np.array(data[output])\n",
    "    \n",
    "    return(features_matrix.astype(int), output_array.astype(int))\n"
   ]
  },
  {
   "cell_type": "code",
   "execution_count": 49,
   "metadata": {
    "collapsed": false
   },
   "outputs": [],
   "source": [
    "def predict_outcome(feature_matrix, weights):\n",
    "    weights=np.array(weights)\n",
    "    predictions = np.dot(feature_matrix, weights)\n",
    "    \n",
    "    return(predictions)\n"
   ]
  },
  {
   "cell_type": "code",
   "execution_count": 5,
   "metadata": {
    "collapsed": false
   },
   "outputs": [],
   "source": [
    "def feature_derivative_ridge(errors, feature, weight, alpha, feature_is_constant):\n",
    "    \n",
    "    \n",
    "  \n",
    "        \n",
    "        \n",
    "      \n",
    "    if feature_is_constant==True:\n",
    "        \n",
    "        derivative = np.sum(errors)*2 \n",
    "            \n",
    "        \n",
    "    elif feature_is_constant ==False:\n",
    "        \n",
    "        \n",
    "        derivative = sum((errors)*feature.astype(int))*2+ 2*alpha*weight\n",
    "             \n",
    "             \n",
    "    return derivative\n"
   ]
  },
  {
   "cell_type": "code",
   "execution_count": 6,
   "metadata": {
    "collapsed": false
   },
   "outputs": [],
   "source": [
    "example_features, example_output = get_numpy_data(sales, ['sqft_living'], 'price')\n",
    "\n",
    "my_weights = np.array([1., 10.])\n",
    "\n",
    "test_predictions = predict_outcome(example_features, my_weights)\n",
    "\n",
    "errors = test_predictions - example_output # prediction errors\n",
    "\n",
    "\n"
   ]
  },
  {
   "cell_type": "code",
   "execution_count": 7,
   "metadata": {
    "collapsed": false
   },
   "outputs": [
    {
     "name": "stdout",
     "output_type": "stream",
     "text": [
      "-4.92391141882e+16\n"
     ]
    }
   ],
   "source": [
    "print feature_derivative_ridge(errors, example_features[:,1], my_weights[1], 1, False)\n"
   ]
  },
  {
   "cell_type": "code",
   "execution_count": 8,
   "metadata": {
    "collapsed": false
   },
   "outputs": [
    {
     "name": "stdout",
     "output_type": "stream",
     "text": [
      "-4.92391141882e+16\n",
      "\n"
     ]
    }
   ],
   "source": [
    "print np.sum(errors*example_features[:,1])*2+20.\n",
    "print ''"
   ]
  },
  {
   "cell_type": "code",
   "execution_count": 9,
   "metadata": {
    "collapsed": false
   },
   "outputs": [
    {
     "name": "stdout",
     "output_type": "stream",
     "text": [
      "-1.30328999477e+13\n"
     ]
    }
   ],
   "source": [
    "print feature_derivative_ridge(errors, example_features[:,0], my_weights[0], 1, True)\n"
   ]
  },
  {
   "cell_type": "code",
   "execution_count": 10,
   "metadata": {
    "collapsed": false
   },
   "outputs": [
    {
     "name": "stdout",
     "output_type": "stream",
     "text": [
      "-1.30328999477e+13\n"
     ]
    }
   ],
   "source": [
    "print np.sum(errors)*2."
   ]
  },
  {
   "cell_type": "code",
   "execution_count": 72,
   "metadata": {
    "collapsed": false
   },
   "outputs": [],
   "source": [
    "def ridge_regression_gradient_descent(feature_matrix, output, initial_weights, step_size, alpha, max_iterations):\n",
    "    weights = np.array(initial_weights) # make sure it's a numpy array\n",
    "    \n",
    "    \n",
    "    gradient_sum_squares = 0 \n",
    "        #while not reached maximum number of iterations:\n",
    "    while  max_iterations:\n",
    "         # compute the predictions using your predict_output() function\n",
    "        predictions = predict_outcome(feature_matrix, weights)\n",
    "        \n",
    "        \n",
    "       \n",
    "        # compute the errors as predictions - output\n",
    "        errors = (predictions - output)\n",
    "        \n",
    "     \n",
    "\n",
    "        \n",
    "        \n",
    "        \n",
    "        for i in xrange(len(weights)): # loop over each weight\n",
    "            \n",
    "            \n",
    "            if i == 0:\n",
    "                is_constant = True\n",
    "            else:\n",
    "                is_constant = False\n",
    "            derivative = feature_derivative_ridge(errors, feature_matrix[:,i], weights[i], alpha, is_constant)\n",
    "                \n",
    "           \n",
    "            # subtract the step size times the derivative from the current weight \n",
    "            adjustment = step_size*derivative\n",
    "            \n",
    "            # update the weight based on step size and derivative:\n",
    "            weights[i] =  weights[i] - adjustment\n",
    "            \n",
    "        \n",
    "        \n",
    "        max_iterations = max_iterations - 1\n",
    "            \n",
    "     \n",
    "    return weights\n",
    "\n"
   ]
  },
  {
   "cell_type": "code",
   "execution_count": 364,
   "metadata": {
    "collapsed": true
   },
   "outputs": [],
   "source": [
    "train_data= pd.read_csv('kc_house_train_data.csv')\n",
    "\n",
    "test_data = pd.read_csv('kc_house_test_data.csv')"
   ]
  },
  {
   "cell_type": "code",
   "execution_count": 365,
   "metadata": {
    "collapsed": false
   },
   "outputs": [],
   "source": [
    "simple_features = ['sqft_living']\n",
    "my_output = 'price'\n",
    "\n",
    "(simple_feature_matrix, output) = get_numpy_data(train_data, simple_features, my_output)\n",
    "(simple_test_feature_matrix, test_output) = get_numpy_data(test_data, simple_features, my_output)\n"
   ]
  },
  {
   "cell_type": "code",
   "execution_count": 366,
   "metadata": {
    "collapsed": false
   },
   "outputs": [],
   "source": [
    "step_size = 1e-12\n",
    "max_iterations = 1000\n",
    "initial_weights = np.array([0.,0.])\n",
    "\n",
    "\n",
    " \n",
    "alpha= 1e11 \n"
   ]
  },
  {
   "cell_type": "code",
   "execution_count": 369,
   "metadata": {
    "collapsed": false
   },
   "outputs": [
    {
     "name": "stdout",
     "output_type": "stream",
     "text": [
      "263.024368965\n"
     ]
    }
   ],
   "source": [
    "simple_weights_0_penalty= ridge_regression_gradient_descent(simple_feature_matrix, output, initial_weights, step_size, 0, max_iterations)\n",
    "print simple_weights_0_penalty[1]"
   ]
  },
  {
   "cell_type": "code",
   "execution_count": 368,
   "metadata": {
    "collapsed": false
   },
   "outputs": [
    {
     "name": "stdout",
     "output_type": "stream",
     "text": [
      "124.572175674\n"
     ]
    }
   ],
   "source": [
    "simple_weights_high_penalty= ridge_regression_gradient_descent(simple_feature_matrix, output, initial_weights, step_size, 1e11, max_iterations)\n",
    "print simple_weights_high_penalty[1]"
   ]
  },
  {
   "cell_type": "code",
   "execution_count": 370,
   "metadata": {
    "collapsed": false
   },
   "outputs": [
    {
     "data": {
      "text/plain": [
       "[<matplotlib.lines.Line2D at 0x11efb9b50>,\n",
       " <matplotlib.lines.Line2D at 0x11efb9d90>,\n",
       " <matplotlib.lines.Line2D at 0x11efb92d0>,\n",
       " <matplotlib.lines.Line2D at 0x11ef9fdd0>,\n",
       " <matplotlib.lines.Line2D at 0x11ef9fed0>,\n",
       " <matplotlib.lines.Line2D at 0x11ef770d0>]"
      ]
     },
     "execution_count": 370,
     "metadata": {},
     "output_type": "execute_result"
    },
    {
     "data": {
      "image/png": "[encoded data removed]",
      "text/plain": [
       "<matplotlib.figure.Figure at 0x11e6e7ad0>"
      ]
     },
     "metadata": {},
     "output_type": "display_data"
    }
   ],
   "source": [
    "import matplotlib.pyplot as plt\n",
    "%matplotlib inline\n",
    "plt.plot(simple_feature_matrix,output,'k.',\n",
    "        simple_feature_matrix,predict_outcome(simple_feature_matrix, simple_weights_0_penalty),'b-',\n",
    "        simple_feature_matrix,predict_outcome(simple_feature_matrix, simple_weights_high_penalty),'r-')"
   ]
  },
  {
   "cell_type": "code",
   "execution_count": 371,
   "metadata": {
    "collapsed": false
   },
   "outputs": [],
   "source": [
    "def RSS_calculation(feature_matrix, weights, output):\n",
    "    prediction = predict_outcome(feature_matrix, weights)\n",
    "    \n",
    "    RSS = ((prediction - output)**2).sum()\n",
    "    \n",
    "    return RSS\n"
   ]
  },
  {
   "cell_type": "code",
   "execution_count": 372,
   "metadata": {
    "collapsed": false
   },
   "outputs": [
    {
     "name": "stdout",
     "output_type": "stream",
     "text": [
      "6.9464210149e+14\n"
     ]
    }
   ],
   "source": [
    "RSS_test_with_penalty = RSS_calculation(simple_test_feature_matrix, simple_weights_high_penalty, test_output)\n",
    "print RSS_test_with_penalty\n",
    "\n"
   ]
  },
  {
   "cell_type": "code",
   "execution_count": 373,
   "metadata": {
    "collapsed": false
   },
   "outputs": [
    {
     "name": "stdout",
     "output_type": "stream",
     "text": [
      "2.75723632154e+14\n"
     ]
    }
   ],
   "source": [
    "RSS_test_with_0_penalty = RSS_calculation(simple_test_feature_matrix, simple_weights_0_penalty, test_output)\n",
    "print RSS_test_with_0_penalty\n"
   ]
  },
  {
   "cell_type": "code",
   "execution_count": 374,
   "metadata": {
    "collapsed": false
   },
   "outputs": [
    {
     "name": "stdout",
     "output_type": "stream",
     "text": [
      "2.93293300089e+15\n"
     ]
    }
   ],
   "source": [
    "RSS_train_with_penalty = RSS_calculation(simple_feature_matrix, simple_weights_high_penalty, output)\n",
    "print RSS_train_with_penalty"
   ]
  },
  {
   "cell_type": "code",
   "execution_count": 375,
   "metadata": {
    "collapsed": false
   },
   "outputs": [
    {
     "name": "stdout",
     "output_type": "stream",
     "text": [
      "1.20825107102e+15\n"
     ]
    }
   ],
   "source": [
    "RSS_train_with_0_penalty = RSS_calculation(simple_feature_matrix, simple_weights_0_penalty, output)\n",
    "print RSS_train_with_0_penalty"
   ]
  },
  {
   "cell_type": "code",
   "execution_count": 376,
   "metadata": {
    "collapsed": false
   },
   "outputs": [],
   "source": [
    "simple_features = ['sqft_living', 'sqft_living15']\n",
    "my_output = 'price'\n",
    "three_initial_weights = np.array([0., 0., 0.])\n",
    "max_iterations = 1000\n",
    "(simple_feature_matrix_with15, output) = get_numpy_data(train_data, simple_features, my_output)\n",
    "(simple_test_feature_matrix_with15, test_output) = get_numpy_data(test_data, simple_features, my_output)\n",
    "\n",
    "        "
   ]
  },
  {
   "cell_type": "code",
   "execution_count": 377,
   "metadata": {
    "collapsed": false
   },
   "outputs": [
    {
     "data": {
      "text/plain": [
       "243.05416982095639"
      ]
     },
     "execution_count": 377,
     "metadata": {},
     "output_type": "execute_result"
    }
   ],
   "source": [
    "simple_weights_0_penalty_three= ridge_regression_gradient_descent(simple_feature_matrix_with15, output, three_initial_weights, step_size, 0, max_iterations)\n",
    "simple_weights_0_penalty_three[1]\n"
   ]
  },
  {
   "cell_type": "code",
   "execution_count": 378,
   "metadata": {
    "collapsed": false
   },
   "outputs": [
    {
     "data": {
      "text/plain": [
       "91.48927364712398"
      ]
     },
     "execution_count": 378,
     "metadata": {},
     "output_type": "execute_result"
    }
   ],
   "source": [
    "simple_weights_high_penalty_three= ridge_regression_gradient_descent(simple_feature_matrix_with15, output, three_initial_weights, step_size, 1e11, max_iterations)\n",
    "simple_weights_high_penalty_three[1]\n"
   ]
  },
  {
   "cell_type": "code",
   "execution_count": 379,
   "metadata": {
    "collapsed": false
   },
   "outputs": [
    {
     "data": {
      "text/plain": [
       "270453.53032194026"
      ]
     },
     "execution_count": 379,
     "metadata": {},
     "output_type": "execute_result"
    }
   ],
   "source": [
    "test_predicted_three_hight = predict_outcome(simple_test_feature_matrix_with15, simple_weights_high_penalty_three)\n",
    "test_predicted_three_hight[0]"
   ]
  },
  {
   "cell_type": "code",
   "execution_count": 380,
   "metadata": {
    "collapsed": false
   },
   "outputs": [
    {
     "data": {
      "text/plain": [
       "387465.47605823533"
      ]
     },
     "execution_count": 380,
     "metadata": {},
     "output_type": "execute_result"
    }
   ],
   "source": [
    "test_predicted_three_no= predict_outcome(simple_test_feature_matrix_with15, simple_weights_0_penalty_three)\n",
    "test_predicted_three_no[0] "
   ]
  },
  {
   "cell_type": "code",
   "execution_count": 381,
   "metadata": {
    "collapsed": false
   },
   "outputs": [
    {
     "data": {
      "text/plain": [
       "310000"
      ]
     },
     "execution_count": 381,
     "metadata": {},
     "output_type": "execute_result"
    }
   ],
   "source": [
    "test_output[0]"
   ]
  },
  {
   "cell_type": "code",
   "execution_count": 382,
   "metadata": {
    "collapsed": false
   },
   "outputs": [
    {
     "name": "stdout",
     "output_type": "stream",
     "text": [
      "5.00404800501e+14\n"
     ]
    }
   ],
   "source": [
    "RSS_test_with_penalty_three = RSS_calculation(simple_test_feature_matrix_with15, simple_weights_high_penalty_three, test_output)\n",
    "print RSS_test_with_penalty_three\n"
   ]
  },
  {
   "cell_type": "code",
   "execution_count": 383,
   "metadata": {
    "collapsed": false
   },
   "outputs": [
    {
     "name": "stdout",
     "output_type": "stream",
     "text": [
      "2.74067615919e+14\n"
     ]
    }
   ],
   "source": [
    "RSS_test_with_0_penalty_three = RSS_calculation(simple_test_feature_matrix_with15, simple_weights_0_penalty_three, test_output)\n",
    "print RSS_test_with_0_penalty_three"
   ]
  },
  {
   "cell_type": "code",
   "execution_count": 384,
   "metadata": {
    "collapsed": false
   },
   "outputs": [
    {
     "name": "stdout",
     "output_type": "stream",
     "text": [
      "2.15299113595e+15\n"
     ]
    }
   ],
   "source": [
    "RSS_train_with_penalty_three = RSS_calculation(simple_feature_matrix_with15, simple_weights_high_penalty_three, output)\n",
    "print RSS_train_with_penalty_three"
   ]
  },
  {
   "cell_type": "code",
   "execution_count": 385,
   "metadata": {
    "collapsed": false
   },
   "outputs": [
    {
     "name": "stdout",
     "output_type": "stream",
     "text": [
      "1.20560785195e+15\n"
     ]
    }
   ],
   "source": [
    "RSS_train_with_0_penalty_three = RSS_calculation(simple_feature_matrix_with15, simple_weights_0_penalty_three, output)\n",
    "print RSS_train_with_0_penalty_three"
   ]
  },
  {
   "cell_type": "code",
   "execution_count": 386,
   "metadata": {
    "collapsed": false
   },
   "outputs": [
    {
     "data": {
      "text/plain": [
       "[<matplotlib.lines.Line2D at 0x11cc9e350>,\n",
       " <matplotlib.lines.Line2D at 0x11cc9e450>,\n",
       " <matplotlib.lines.Line2D at 0x11cc9e610>,\n",
       " <matplotlib.lines.Line2D at 0x11cc9e710>,\n",
       " <matplotlib.lines.Line2D at 0x11cca9810>,\n",
       " <matplotlib.lines.Line2D at 0x11cca9950>,\n",
       " <matplotlib.lines.Line2D at 0x11cca9a90>,\n",
       " <matplotlib.lines.Line2D at 0x11ccb4b10>,\n",
       " <matplotlib.lines.Line2D at 0x11ccb4c50>]"
      ]
     },
     "execution_count": 386,
     "metadata": {},
     "output_type": "execute_result"
    },
    {
     "data": {
      "image/png": "[encoded data removed]",
      "text/plain": [
       "<matplotlib.figure.Figure at 0x11eca7e50>"
      ]
     },
     "metadata": {},
     "output_type": "display_data"
    }
   ],
   "source": [
    "import matplotlib.pyplot as plt\n",
    "%matplotlib inline\n",
    "plt.plot(simple_test_feature_matrix_with15,test_output,'k.',\n",
    "        simple_test_feature_matrix_with15,predict_outcome(simple_test_feature_matrix_with15, simple_weights_0_penalty_three),'b-',\n",
    "        simple_test_feature_matrix_with15,predict_outcome(simple_test_feature_matrix_with15, simple_weights_high_penalty_three),'r-')"
   ]
  },
  {
   "cell_type": "code",
   "execution_count": null,
   "metadata": {
    "collapsed": true
   },
   "outputs": [],
   "source": []
  }
 ],
 "metadata": {
  "kernelspec": {
   "display_name": "Python 2",
   "language": "python",
   "name": "python2"
  },
  "language_info": {
   "codemirror_mode": {
    "name": "ipython",
    "version": 2
   },
   "file_extension": ".py",
   "mimetype": "text/x-python",
   "name": "python",
   "nbconvert_exporter": "python",
   "pygments_lexer": "ipython2",
   "version": "2.7.11"
  }
 },
 "nbformat": 4,
 "nbformat_minor": 0
}
