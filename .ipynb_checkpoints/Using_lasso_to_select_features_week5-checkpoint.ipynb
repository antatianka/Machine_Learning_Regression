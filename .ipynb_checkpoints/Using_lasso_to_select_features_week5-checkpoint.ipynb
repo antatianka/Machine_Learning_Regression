{
 "cells": [
  {
   "cell_type": "code",
   "execution_count": 1,
   "metadata": {
    "collapsed": true
   },
   "outputs": [],
   "source": [
    "import math\n",
    "import random\n",
    "import numpy as np\n",
    "import pandas as pd\n",
    "from sklearn import  linear_model\n",
    "from matplotlib import pyplot as plt\n",
    "%matplotlib inline\n",
    "from sklearn.linear_model import Ridge\n",
    "from sklearn.cross_validation import KFold\n",
    "from sklearn.linear_model import RidgeCV"
   ]
  },
  {
   "cell_type": "code",
   "execution_count": 2,
   "metadata": {
    "collapsed": true
   },
   "outputs": [],
   "source": [
    "#Load the sales dataset using Pandas\n",
    "\n",
    "dtype_dict = {'bathrooms':float, 'waterfront':int, 'sqft_above':int, 'sqft_living15':float, 'grade':int, 'yr_renovated':int, 'price':float, 'bedrooms':float, 'zipcode':str, 'long':float, 'sqft_lot15':float, 'sqft_living':float, 'floors':float, 'condition':int, 'lat':float, 'date':str, 'sqft_basement':int, 'yr_built':int, 'id':str, 'sqft_lot':int, 'view':int}\n",
    "\n",
    "sales = pd.read_csv('kc_house_data.csv', dtype=dtype_dict)"
   ]
  },
  {
   "cell_type": "code",
   "execution_count": 3,
   "metadata": {
    "collapsed": true
   },
   "outputs": [],
   "source": [
    "#Create new features by performing following transformation on inputs\n",
    "from math import log, sqrt\n",
    "sales['sqft_living_sqrt'] = sales['sqft_living'].apply(sqrt)\n",
    "sales['sqft_lot_sqrt'] = sales['sqft_lot'].apply(sqrt)\n",
    "sales['bedrooms_square'] = sales['bedrooms']*sales['bedrooms']\n",
    "sales['floors_square'] = sales['floors']*sales['floors']\n",
    "#    Squaring bedrooms will increase the separation between not many bedrooms (e.g. 1) \n",
    "#and lots of bedrooms (e.g. 4) since 1^2 = 1 but 4^2 = 16. Consequently this variable will mostly \n",
    "#affect houses with many bedrooms.\n",
    "#On the other hand, taking square root of sqft_living will decrease the separation between big house and small house.\n",
    "#The owner may not be exactly twice as happy for getting a house that is twice as big."
   ]
  },
  {
   "cell_type": "code",
   "execution_count": 4,
   "metadata": {
    "collapsed": false
   },
   "outputs": [
    {
     "data": {
      "text/plain": [
       "Lasso(alpha=500.0, copy_X=True, fit_intercept=True, max_iter=1000,\n",
       "   normalize=True, positive=False, precompute=False, random_state=None,\n",
       "   selection='cyclic', tol=0.0001, warm_start=False)"
      ]
     },
     "execution_count": 4,
     "metadata": {},
     "output_type": "execute_result"
    }
   ],
   "source": [
    "#Using the entire house dataset, learn regression weights using an L1 penalty(alpha) of 5e2\n",
    "all_features = ['bedrooms', 'bedrooms_square',\n",
    "            'bathrooms',\n",
    "            'sqft_living', 'sqft_living_sqrt',\n",
    "            'sqft_lot', 'sqft_lot_sqrt',\n",
    "            'floors', 'floors_square',\n",
    "            'waterfront', 'view', 'condition', 'grade',\n",
    "            'sqft_above',\n",
    "            'sqft_basement',\n",
    "            'yr_built', 'yr_renovated']\n",
    "\n",
    "model_all = linear_model.Lasso(alpha=5e2, normalize=True) # set parameters\n",
    "model_all.fit(sales[all_features], sales['price']) # learn weights"
   ]
  },
  {
   "cell_type": "code",
   "execution_count": 5,
   "metadata": {
    "collapsed": true
   },
   "outputs": [],
   "source": [
    "#Create a function that prints the polynomial coefficients in a pretty way :)\n",
    "def print_coefficients(model):    \n",
    "    # Get the degree of the polynomial\n",
    "    #print model.coef_\n",
    "    deg = len(model.coef_)\n",
    "    \n",
    "    # Get learned parameters as a list\n",
    "    w = [model.intercept_] + list(model.coef_) \n",
    "\n",
    "    # Numpy has a nifty function to print out polynomials in a pretty way\n",
    "    # (We'll use it, but it needs the parameters in the reverse order)\n",
    "    print 'Learned polynomial for degree ' + str(deg) + ':'\n",
    "    w.reverse()\n",
    "    print np.poly1d(w)"
   ]
  },
  {
   "cell_type": "code",
   "execution_count": 46,
   "metadata": {
    "collapsed": false
   },
   "outputs": [
    {
     "name": "stdout",
     "output_type": "stream",
     "text": [
      "number of nonzeros = 4\n",
      "Learned polynomial for degree 17:\n",
      "           13             11         4\n",
      "6.175e+04 x  + 2.475e+04 x  + 134.4 x - 2.181e+05\n",
      "\n",
      "\n"
     ]
    }
   ],
   "source": [
    "w = [model_all.intercept_] + list(model_all.coef_)\n",
    "\n",
    "   \n",
    "    \n",
    "alpha=5e2    \n",
    "non_zeros_number = len(np.nonzero(w)[0])\n",
    "    \n",
    "    \n",
    "   \n",
    "    \n",
    "    \n",
    "\n",
    "print 'number of nonzeros = %r' % non_zeros_number \n",
    "print_coefficients(model_all)\n",
    "print '\\n'\n"
   ]
  },
  {
   "cell_type": "code",
   "execution_count": 47,
   "metadata": {
    "collapsed": true
   },
   "outputs": [],
   "source": [
    "#To find a good L1 penalty(alpha),  explore multiple values using a validation set. Using three way split into train, validation, and test sets.\n",
    "testing = pd.read_csv('wk3_kc_house_test_data.csv', dtype=dtype_dict)\n",
    "training = pd.read_csv('wk3_kc_house_train_data.csv', dtype=dtype_dict)\n",
    "validation = pd.read_csv('wk3_kc_house_valid_data.csv', dtype=dtype_dict)"
   ]
  },
  {
   "cell_type": "code",
   "execution_count": 48,
   "metadata": {
    "collapsed": true
   },
   "outputs": [],
   "source": [
    "#create 4 features as above\n",
    "testing['sqft_living_sqrt'] = testing['sqft_living'].apply(sqrt)\n",
    "testing['sqft_lot_sqrt'] = testing['sqft_lot'].apply(sqrt)\n",
    "testing['bedrooms_square'] = testing['bedrooms']*testing['bedrooms']\n",
    "testing['floors_square'] = testing['floors']*testing['floors']\n",
    "\n",
    "training['sqft_living_sqrt'] = training['sqft_living'].apply(sqrt)\n",
    "training['sqft_lot_sqrt'] = training['sqft_lot'].apply(sqrt)\n",
    "training['bedrooms_square'] = training['bedrooms']*training['bedrooms']\n",
    "training['floors_square'] = training['floors']*training['floors']\n",
    "\n",
    "validation['sqft_living_sqrt'] = validation['sqft_living'].apply(sqrt)\n",
    "validation['sqft_lot_sqrt'] = validation['sqft_lot'].apply(sqrt)\n",
    "validation['bedrooms_square'] = validation['bedrooms']*validation['bedrooms']\n",
    "validation['floors_square'] = validation['floors']*validation['floors']"
   ]
  },
  {
   "cell_type": "code",
   "execution_count": 184,
   "metadata": {
    "collapsed": false
   },
   "outputs": [],
   "source": [
    "def RSS_calculation(features, data, output):\n",
    "    prediction =  model.predict(data[features])\n",
    "    \n",
    "    RSS = ((prediction - output)**2).sum()\n",
    "    \n",
    "    return RSS\n",
    "\n"
   ]
  },
  {
   "cell_type": "code",
   "execution_count": 117,
   "metadata": {
    "collapsed": false
   },
   "outputs": [
    {
     "name": "stdout",
     "output_type": "stream",
     "text": [
      "l1_penalty: 10.0, RSS: 3.982133273e+14\n",
      "l1_penalty: 31.6227766017, RSS: 3.99041900253e+14\n",
      "l1_penalty: 100.0, RSS: 4.29791604073e+14\n",
      "l1_penalty: 316.227766017, RSS: 4.63739831045e+14\n",
      "l1_penalty: 1000.0, RSS: 6.45898733634e+14\n",
      "l1_penalty: 3162.27766017, RSS: 1.22250685943e+15\n",
      "l1_penalty: 10000.0, RSS: 1.22250685943e+15\n",
      "l1_penalty: 31622.7766017, RSS: 1.22250685943e+15\n",
      "l1_penalty: 100000.0, RSS: 1.22250685943e+15\n",
      "l1_penalty: 316227.766017, RSS: 1.22250685943e+15\n",
      "l1_penalty: 1000000.0, RSS: 1.22250685943e+15\n",
      "l1_penalty: 3162277.66017, RSS: 1.22250685943e+15\n",
      "l1_penalty: 10000000.0, RSS: 1.22250685943e+15\n",
      "l1_penalty: 10.0, lowest RSS: 3.982133273e+14\n"
     ]
    }
   ],
   "source": [
    "lowest_RSS = 0\n",
    "l1_penalty_values = np.logspace(1, 7, num=13)\n",
    "for l1_penalty in l1_penalty_values:\n",
    "    model = linear_model.Lasso(alpha=l1_penalty, normalize=True)\n",
    "    model = model.fit(training[all_features], training['price'])\n",
    "    RSS = RSS_calculation(all_features, validation,validation['price'] )\n",
    "    if lowest_RSS>0  and RSS < lowest_RSS:\n",
    "        lowest_RSS = RSS\n",
    "        best_l1_penalty = l1_penalty\n",
    "    elif lowest_RSS==0:\n",
    "        lowest_RSS= RSS\n",
    "        best_l1_penalty = l1_penalty\n",
    "    print \"l1_penalty: \" + str(l1_penalty) + \", RSS: \" + str(RSS)    \n",
    "print \"l1_penalty: \" + str(best_l1_penalty) + \", lowest RSS: \" + str(lowest_RSS) "
   ]
  },
  {
   "cell_type": "code",
   "execution_count": 90,
   "metadata": {
    "collapsed": false
   },
   "outputs": [
    {
     "name": "stdout",
     "output_type": "stream",
     "text": [
      "number of nonzeros = 15\n",
      "Learned polynomial for degree 17:\n",
      "       17        16             13           12             11\n",
      "10.06 x  - 3294 x  + 1.287e+05 x  + 2.5e+04 x  + 3.804e+04 x \n",
      "              10        9     8         7          6             5\n",
      " + 6.195e+05 x  + 5014 x - 0 x - 701.2 x + 0.7856 x - 4.441e+04 x\n",
      "          4             3         2\n",
      " + 617.9 x + 5.084e+04 x + 373.2 x - 1.614e+04 x + 6.63e+06\n",
      "\n",
      "\n"
     ]
    }
   ],
   "source": [
    "l1_penalty = 10.0\n",
    "model = linear_model.Lasso(alpha=10.0, normalize=True)\n",
    "model = model.fit(training[all_features], training['price'])\n",
    "w = [model.intercept_] + list(model.coef_)\n",
    "\n",
    "   \n",
    "    \n",
    "alpha = 10.0   \n",
    "non_zeros_number = len(np.nonzero(w)[0])\n",
    "    \n",
    "    \n",
    "   \n",
    "    \n",
    "    \n",
    "\n",
    "print 'number of nonzeros = %r' % non_zeros_number \n",
    "print_coefficients(model)\n",
    "print '\\n'"
   ]
  },
  {
   "cell_type": "code",
   "execution_count": 190,
   "metadata": {
    "collapsed": false
   },
   "outputs": [
    {
     "name": "stdout",
     "output_type": "stream",
     "text": [
      "l1_penalty_max = 10\n",
      "\n",
      "\n",
      "l1_penalty_min = 3360\n",
      "max_nonzeros = 15\n",
      "max_nonzeros_features = ['bedrooms', 'bedrooms_square', 'bathrooms', 'sqft_living', 'sqft_living_sqrt', 'sqft_lot', 'sqft_lot_sqrt', 'floors_square', 'waterfront', 'view', 'condition', 'grade', 'yr_built', 'yr_renovated']\n"
     ]
    }
   ],
   "source": [
    "l1_penalty_min=0\n",
    "l1_penalty_max=0\n",
    "max_nonzeros = 7\n",
    "min_nonzeros = 7\n",
    "max_nonzeros_features = []\n",
    "l1_penalty_values = np.logspace(1, 4, num=20)\n",
    "for l1_penalty in l1_penalty_values:\n",
    "    model = linear_model.Lasso(alpha=l1_penalty, normalize=True)\n",
    "    model = model.fit(training[all_features], training['price'])\n",
    "    w = [model.intercept_] + list(model.coef_)\n",
    "    s = list(model.coef_)\n",
    "        \n",
    "    non_zeros_number = len(np.nonzero(w)[0])\n",
    "    if non_zeros_number > max_nonzeros: \n",
    "        l1_penalty_max = l1_penalty\n",
    "        max_nonzeros = non_zeros_number\n",
    "        \n",
    "        max_nonzeros_list = np.nonzero(s)[0] \n",
    "        \n",
    "        for value in max_nonzeros_list:\n",
    "            \n",
    "            max_nonzeros_features.append(all_features[value])\n",
    "         \n",
    "    if  non_zeros_number < min_nonzeros:\n",
    "        l1_penalty_min = l1_penalty\n",
    "        min_nonzeros = non_zeros_number\n",
    "        \n",
    "        \n",
    "print \"l1_penalty_max = %.0f\" %  l1_penalty_max \n",
    "print '\\n'\n",
    "print \"l1_penalty_min = %.0f\" %  l1_penalty_min    \n",
    "print \"max_nonzeros = %.0f\" %  max_nonzeros \n",
    "print \"max_nonzeros_features = %s\" %  max_nonzeros_features"
   ]
  },
  {
   "cell_type": "code",
   "execution_count": 186,
   "metadata": {
    "collapsed": false
   },
   "outputs": [
    {
     "name": "stdout",
     "output_type": "stream",
     "text": [
      "154\n"
     ]
    }
   ],
   "source": [
    "max_nonzeros = 15\n",
    "nonzeros = 7\n",
    "lowest_RSS = 0\n",
    "max_nonzeros_features = ['bedrooms', 'bedrooms_square', 'bathrooms', 'sqft_living', 'sqft_living_sqrt', \n",
    "                         'sqft_lot', 'sqft_lot_sqrt', 'floors_square', 'waterfront', 'view', 'condition', 'grade', 'yr_built', 'yr_renovated']\n",
    "def find_best_penalty(l1_penalty_min, l1_penalty_max):\n",
    "    max_nonzeros_features_new= []\n",
    "    lowest_RSS = 0\n",
    "    \n",
    "    for l1_penalty in range(int(l1_penalty_max), int(l1_penalty_min) + 1):\n",
    "        \n",
    "        model = linear_model.Lasso(alpha=l1_penalty, normalize=True)\n",
    "       \n",
    "        model = model.fit(training[max_nonzeros_features], training['price'])\n",
    "        \n",
    "        w = [model.intercept_] + list(model.coef_)\n",
    "\n",
    "   \n",
    "    \n",
    "   \n",
    "        non_zeros_number = len(np.nonzero(w)[0])\n",
    "        \n",
    "        if non_zeros_number == nonzeros:\n",
    "            s = list(model.coef_) \n",
    "            \n",
    "            max_nonzeros_list = np.nonzero(s)[0]\n",
    "            \n",
    "            for value in max_nonzeros_list:\n",
    "            \n",
    "                max_nonzeros_features_new.append(all_features[value]) \n",
    "           \n",
    "            model = linear_model.Lasso(alpha=l1_penalty, normalize=True)\n",
    "       \n",
    "            model = model.fit(training[max_nonzeros_features_new], training['price'])\n",
    "            prediction =  model.predict(validation[max_nonzeros_features_new])\n",
    "    \n",
    "            RSS = ((prediction - validation['price'])**2).sum()\n",
    "    \n",
    "            \n",
    "           \n",
    "            if lowest_RSS>0  and RSS < lowest_RSS:\n",
    "                lowest_RSS = RSS\n",
    "                best_l1_penalty_new = l1_penalty\n",
    "            elif lowest_RSS==0:\n",
    "                lowest_RSS= RSS\n",
    "                best_l1_penalty_new = l1_penalty\n",
    "    return best_l1_penalty_new\n",
    "    #print \"best_l1_penalty = %.0f\" %  best_l1_penalty_new      \n",
    "print find_best_penalty(3360, 10)    "
   ]
  },
  {
   "cell_type": "code",
   "execution_count": 188,
   "metadata": {
    "collapsed": false
   },
   "outputs": [
    {
     "name": "stdout",
     "output_type": "stream",
     "text": [
      "number of nonzeros = 7\n",
      "Learned polynomial for degree 17:\n",
      "       16             13           11             10     7     6\n",
      "-2628 x  + 1.165e+05 x  + 4.2e+04 x  + 5.081e+05 x  - 0 x - 0 x\n",
      "          4             3     2\n",
      " + 163.2 x + 1.105e+04 x - 0 x - 0 x + 4.45e+06\n",
      "\n",
      "\n"
     ]
    }
   ],
   "source": [
    "l1_penalty = 154.0\n",
    "model = linear_model.Lasso(alpha=l1_penalty, normalize=True)\n",
    "model = model.fit(training[all_features], training['price'])\n",
    "w = [model.intercept_] + list(model.coef_)\n",
    "\n",
    "   \n",
    "    \n",
    "  \n",
    "non_zeros_number = len(np.nonzero(w)[0])\n",
    "    \n",
    "    \n",
    "   \n",
    "    \n",
    "    \n",
    "\n",
    "print 'number of nonzeros = %r' % non_zeros_number \n",
    "print_coefficients(model)\n",
    "print '\\n'"
   ]
  },
  {
   "cell_type": "code",
   "execution_count": null,
   "metadata": {
    "collapsed": true
   },
   "outputs": [],
   "source": []
  }
 ],
 "metadata": {
  "kernelspec": {
   "display_name": "Python 2",
   "language": "python",
   "name": "python2"
  },
  "language_info": {
   "codemirror_mode": {
    "name": "ipython",
    "version": 2
   },
   "file_extension": ".py",
   "mimetype": "text/x-python",
   "name": "python",
   "nbconvert_exporter": "python",
   "pygments_lexer": "ipython2",
   "version": "2.7.11"
  }
 },
 "nbformat": 4,
 "nbformat_minor": 0
}
