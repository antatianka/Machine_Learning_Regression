{
 "cells": [
  {
   "cell_type": "code",
   "execution_count": 1,
   "metadata": {
    "collapsed": false
   },
   "outputs": [],
   "source": [
    "import pandas as pd\n",
    "from sklearn import  linear_model\n",
    "import numpy as np\n",
    "import matplotlib.pyplot as plt\n",
    "import seaborn as sns\n",
    "import math"
   ]
  },
  {
   "cell_type": "code",
   "execution_count": 5,
   "metadata": {
    "collapsed": false
   },
   "outputs": [
    {
     "name": "stdout",
     "output_type": "stream",
     "text": [
      "     0\n",
      "0  1.0\n",
      "1  2.0\n",
      "2  3.0\n",
      "      0\n",
      "0   1.0\n",
      "1   8.0\n",
      "2  27.0\n"
     ]
    }
   ],
   "source": [
    "tmp = pd.DataFrame([1., 2., 3.])\n",
    "tmp_cubed = tmp.apply(lambda x: x**3)\n",
    "print tmp\n",
    "print tmp_cubed"
   ]
  },
  {
   "cell_type": "code",
   "execution_count": 4,
   "metadata": {
    "collapsed": false
   },
   "outputs": [],
   "source": [
    "def polynomial_dataframe(feature, degree): # feature is pandas.Series type\n",
    "    # assume that degree >= 1\n",
    "    # initialize the dataframe:\n",
    "    poly_dataframe = pd.DataFrame()\n",
    "    # and set poly_dataframe['power_1'] equal to the passed feature\n",
    "    poly_dataframe['power_1'] = feature\n",
    "    # first check if degree > 1\n",
    "    if degree > 1:\n",
    "        # then loop over the remaining degrees:\n",
    "        for power in range(2, degree+1):\n",
    "            # first we'll give the column a name:\n",
    "            name = 'power_' + str(power)\n",
    "            # assign poly_dataframe[name] to be feature^power; use apply(*)\n",
    "            poly_dataframe[name] = feature.apply(lambda x: int(x)**power)\n",
    "            \n",
    "    return poly_dataframe\n"
   ]
  },
  {
   "cell_type": "code",
   "execution_count": 19,
   "metadata": {
    "collapsed": false
   },
   "outputs": [],
   "source": [
    "sales = pd.read_csv('kc_house_data.csv', dtype=dict)\n",
    "sales = sales.sort(['sqft_living','price'])"
   ]
  },
  {
   "cell_type": "code",
   "execution_count": 25,
   "metadata": {
    "collapsed": false
   },
   "outputs": [
    {
     "data": {
      "text/html": [
       "<div>\n",
       "<table border=\"1\" class=\"dataframe\">\n",
       "  <thead>\n",
       "    <tr style=\"text-align: right;\">\n",
       "      <th></th>\n",
       "      <th>id</th>\n",
       "      <th>date</th>\n",
       "      <th>price</th>\n",
       "      <th>bedrooms</th>\n",
       "      <th>bathrooms</th>\n",
       "      <th>sqft_living</th>\n",
       "      <th>sqft_lot</th>\n",
       "      <th>floors</th>\n",
       "      <th>waterfront</th>\n",
       "      <th>view</th>\n",
       "      <th>...</th>\n",
       "      <th>grade</th>\n",
       "      <th>sqft_above</th>\n",
       "      <th>sqft_basement</th>\n",
       "      <th>yr_built</th>\n",
       "      <th>yr_renovated</th>\n",
       "      <th>zipcode</th>\n",
       "      <th>lat</th>\n",
       "      <th>long</th>\n",
       "      <th>sqft_living15</th>\n",
       "      <th>sqft_lot15</th>\n",
       "    </tr>\n",
       "  </thead>\n",
       "  <tbody>\n",
       "    <tr>\n",
       "      <th>3402</th>\n",
       "      <td>3356403820</td>\n",
       "      <td>20141205T000000</td>\n",
       "      <td>115000</td>\n",
       "      <td>2</td>\n",
       "      <td>1</td>\n",
       "      <td>1000</td>\n",
       "      <td>16524</td>\n",
       "      <td>1</td>\n",
       "      <td>0</td>\n",
       "      <td>0</td>\n",
       "      <td>...</td>\n",
       "      <td>5</td>\n",
       "      <td>1000</td>\n",
       "      <td>0</td>\n",
       "      <td>1913</td>\n",
       "      <td>0</td>\n",
       "      <td>98001</td>\n",
       "      <td>47.2841</td>\n",
       "      <td>-122.255</td>\n",
       "      <td>1350</td>\n",
       "      <td>10208</td>\n",
       "    </tr>\n",
       "    <tr>\n",
       "      <th>5511</th>\n",
       "      <td>7875200005</td>\n",
       "      <td>20150115T000000</td>\n",
       "      <td>140000</td>\n",
       "      <td>3</td>\n",
       "      <td>1</td>\n",
       "      <td>1000</td>\n",
       "      <td>10560</td>\n",
       "      <td>1</td>\n",
       "      <td>0</td>\n",
       "      <td>0</td>\n",
       "      <td>...</td>\n",
       "      <td>7</td>\n",
       "      <td>1000</td>\n",
       "      <td>0</td>\n",
       "      <td>1955</td>\n",
       "      <td>0</td>\n",
       "      <td>98003</td>\n",
       "      <td>47.3217</td>\n",
       "      <td>-122.317</td>\n",
       "      <td>1190</td>\n",
       "      <td>9375</td>\n",
       "    </tr>\n",
       "    <tr>\n",
       "      <th>14454</th>\n",
       "      <td>8581400450</td>\n",
       "      <td>20141028T000000</td>\n",
       "      <td>159995</td>\n",
       "      <td>2</td>\n",
       "      <td>1</td>\n",
       "      <td>1000</td>\n",
       "      <td>5026</td>\n",
       "      <td>1</td>\n",
       "      <td>0</td>\n",
       "      <td>0</td>\n",
       "      <td>...</td>\n",
       "      <td>5</td>\n",
       "      <td>760</td>\n",
       "      <td>240</td>\n",
       "      <td>1915</td>\n",
       "      <td>0</td>\n",
       "      <td>98002</td>\n",
       "      <td>47.297</td>\n",
       "      <td>-122.225</td>\n",
       "      <td>990</td>\n",
       "      <td>5026</td>\n",
       "    </tr>\n",
       "    <tr>\n",
       "      <th>20612</th>\n",
       "      <td>2724049222</td>\n",
       "      <td>20140802T000000</td>\n",
       "      <td>163800</td>\n",
       "      <td>2</td>\n",
       "      <td>2.5</td>\n",
       "      <td>1000</td>\n",
       "      <td>1092</td>\n",
       "      <td>2</td>\n",
       "      <td>0</td>\n",
       "      <td>0</td>\n",
       "      <td>...</td>\n",
       "      <td>7</td>\n",
       "      <td>990</td>\n",
       "      <td>10</td>\n",
       "      <td>2004</td>\n",
       "      <td>0</td>\n",
       "      <td>98118</td>\n",
       "      <td>47.5419</td>\n",
       "      <td>-122.271</td>\n",
       "      <td>1330</td>\n",
       "      <td>1466</td>\n",
       "    </tr>\n",
       "    <tr>\n",
       "      <th>345</th>\n",
       "      <td>3969300030</td>\n",
       "      <td>20140723T000000</td>\n",
       "      <td>165000</td>\n",
       "      <td>4</td>\n",
       "      <td>1</td>\n",
       "      <td>1000</td>\n",
       "      <td>7134</td>\n",
       "      <td>1</td>\n",
       "      <td>0</td>\n",
       "      <td>0</td>\n",
       "      <td>...</td>\n",
       "      <td>6</td>\n",
       "      <td>1000</td>\n",
       "      <td>0</td>\n",
       "      <td>1943</td>\n",
       "      <td>0</td>\n",
       "      <td>98178</td>\n",
       "      <td>47.4897</td>\n",
       "      <td>-122.24</td>\n",
       "      <td>1020</td>\n",
       "      <td>7138</td>\n",
       "    </tr>\n",
       "  </tbody>\n",
       "</table>\n",
       "<p>5 rows × 21 columns</p>\n",
       "</div>"
      ],
      "text/plain": [
       "               id             date   price bedrooms bathrooms sqft_living  \\\n",
       "3402   3356403820  20141205T000000  115000        2         1        1000   \n",
       "5511   7875200005  20150115T000000  140000        3         1        1000   \n",
       "14454  8581400450  20141028T000000  159995        2         1        1000   \n",
       "20612  2724049222  20140802T000000  163800        2       2.5        1000   \n",
       "345    3969300030  20140723T000000  165000        4         1        1000   \n",
       "\n",
       "      sqft_lot floors waterfront view    ...     grade sqft_above  \\\n",
       "3402     16524      1          0    0    ...         5       1000   \n",
       "5511     10560      1          0    0    ...         7       1000   \n",
       "14454     5026      1          0    0    ...         5        760   \n",
       "20612     1092      2          0    0    ...         7        990   \n",
       "345       7134      1          0    0    ...         6       1000   \n",
       "\n",
       "      sqft_basement yr_built yr_renovated zipcode      lat      long  \\\n",
       "3402              0     1913            0   98001  47.2841  -122.255   \n",
       "5511              0     1955            0   98003  47.3217  -122.317   \n",
       "14454           240     1915            0   98002   47.297  -122.225   \n",
       "20612            10     2004            0   98118  47.5419  -122.271   \n",
       "345               0     1943            0   98178  47.4897   -122.24   \n",
       "\n",
       "      sqft_living15 sqft_lot15  \n",
       "3402           1350      10208  \n",
       "5511           1190       9375  \n",
       "14454           990       5026  \n",
       "20612          1330       1466  \n",
       "345            1020       7138  \n",
       "\n",
       "[5 rows x 21 columns]"
      ]
     },
     "execution_count": 25,
     "metadata": {},
     "output_type": "execute_result"
    }
   ],
   "source": [
    "sales.head()"
   ]
  },
  {
   "cell_type": "code",
   "execution_count": 6,
   "metadata": {
    "collapsed": false
   },
   "outputs": [],
   "source": [
    "# Make a 1 degree polynomial DataFrame with sales[‘sqft_living’] as the the feature.\n",
    "poly1_data = polynomial_dataframe(sales['sqft_living'], 1)\n"
   ]
  },
  {
   "cell_type": "code",
   "execution_count": 7,
   "metadata": {
    "collapsed": false
   },
   "outputs": [
    {
     "data": {
      "text/html": [
       "<div>\n",
       "<table border=\"1\" class=\"dataframe\">\n",
       "  <thead>\n",
       "    <tr style=\"text-align: right;\">\n",
       "      <th></th>\n",
       "      <th>power_1</th>\n",
       "      <th>price</th>\n",
       "    </tr>\n",
       "  </thead>\n",
       "  <tbody>\n",
       "    <tr>\n",
       "      <th>3402</th>\n",
       "      <td>1000</td>\n",
       "      <td>115000</td>\n",
       "    </tr>\n",
       "    <tr>\n",
       "      <th>5511</th>\n",
       "      <td>1000</td>\n",
       "      <td>140000</td>\n",
       "    </tr>\n",
       "    <tr>\n",
       "      <th>14454</th>\n",
       "      <td>1000</td>\n",
       "      <td>159995</td>\n",
       "    </tr>\n",
       "    <tr>\n",
       "      <th>20612</th>\n",
       "      <td>1000</td>\n",
       "      <td>163800</td>\n",
       "    </tr>\n",
       "    <tr>\n",
       "      <th>345</th>\n",
       "      <td>1000</td>\n",
       "      <td>165000</td>\n",
       "    </tr>\n",
       "  </tbody>\n",
       "</table>\n",
       "</div>"
      ],
      "text/plain": [
       "      power_1   price\n",
       "3402     1000  115000\n",
       "5511     1000  140000\n",
       "14454    1000  159995\n",
       "20612    1000  163800\n",
       "345      1000  165000"
      ]
     },
     "execution_count": 7,
     "metadata": {},
     "output_type": "execute_result"
    }
   ],
   "source": [
    "poly1_data['price'] = sales['price']\n",
    "poly1_data.head()"
   ]
  },
  {
   "cell_type": "code",
   "execution_count": 35,
   "metadata": {
    "collapsed": false
   },
   "outputs": [],
   "source": [
    "#Create linear regression to compute the regression weights for predicting sales[‘price’] based on the 1 degree polynomial feature ‘sqft_living’\n",
    "model1 = linear_model.LinearRegression()"
   ]
  },
  {
   "cell_type": "code",
   "execution_count": 11,
   "metadata": {
    "collapsed": true
   },
   "outputs": [],
   "source": [
    "model1 = linear_model.LinearRegression(features, target)"
   ]
  },
  {
   "cell_type": "code",
   "execution_count": 8,
   "metadata": {
    "collapsed": true
   },
   "outputs": [],
   "source": [
    "predictor = ['power_1']"
   ]
  },
  {
   "cell_type": "code",
   "execution_count": 9,
   "metadata": {
    "collapsed": false
   },
   "outputs": [],
   "source": [
    "target = poly1_data['price']\n",
    "features = poly1_data[predictor]"
   ]
  },
  {
   "cell_type": "code",
   "execution_count": 64,
   "metadata": {
    "collapsed": false
   },
   "outputs": [
    {
     "data": {
      "text/plain": [
       "LinearRegression(copy_X=True, fit_intercept=True, n_jobs=1, normalize=False)"
      ]
     },
     "execution_count": 64,
     "metadata": {},
     "output_type": "execute_result"
    }
   ],
   "source": [
    "model1.fit(features, target)"
   ]
  },
  {
   "cell_type": "code",
   "execution_count": 88,
   "metadata": {
    "collapsed": false
   },
   "outputs": [],
   "source": [
    "import matplotlib.pyplot as plt\n",
    "%matplotlib inline\n",
    "import pylab\n",
    "\n",
    "\n"
   ]
  },
  {
   "cell_type": "code",
   "execution_count": 87,
   "metadata": {
    "collapsed": false
   },
   "outputs": [
    {
     "data": {
      "text/plain": [
       "[<matplotlib.lines.Line2D at 0x119347350>,\n",
       " <matplotlib.lines.Line2D at 0x119347790>]"
      ]
     },
     "execution_count": 87,
     "metadata": {},
     "output_type": "execute_result"
    },
    {
     "data": {
      "image/png": "[encoded data removed]",
      "text/plain": [
       "<matplotlib.figure.Figure at 0x1029bbc50>"
      ]
     },
     "metadata": {},
     "output_type": "display_data"
    }
   ],
   "source": [
    "plt.plot(features,target,'.',\n",
    "        features, model1.predict(features),'-')"
   ]
  },
  {
   "cell_type": "code",
   "execution_count": 225,
   "metadata": {
    "collapsed": false
   },
   "outputs": [
    {
     "data": {
      "image/png": "[encoded data removed]",
      "text/plain": [
       "<matplotlib.figure.Figure at 0x120920710>"
      ]
     },
     "metadata": {},
     "output_type": "display_data"
    }
   ],
   "source": [
    "plt.scatter(features, target,  color='black')\n",
    "plt.plot(features, model1.predict(features), color='blue',\n",
    "       linewidth=3)\n",
    "\n",
    "plt.xticks()\n",
    "plt.yticks()\n",
    "\n",
    "plt.show()"
   ]
  },
  {
   "cell_type": "code",
   "execution_count": 15,
   "metadata": {
    "collapsed": false
   },
   "outputs": [],
   "source": [
    "poly2_data = polynomial_dataframe(sales['sqft_living'], 2)\n",
    "poly2_data['price'] = sales['price']"
   ]
  },
  {
   "cell_type": "code",
   "execution_count": 188,
   "metadata": {
    "collapsed": false
   },
   "outputs": [
    {
     "data": {
      "text/html": [
       "<div>\n",
       "<table border=\"1\" class=\"dataframe\">\n",
       "  <thead>\n",
       "    <tr style=\"text-align: right;\">\n",
       "      <th></th>\n",
       "      <th>power_1</th>\n",
       "      <th>power_2</th>\n",
       "    </tr>\n",
       "  </thead>\n",
       "  <tbody>\n",
       "    <tr>\n",
       "      <th>3402</th>\n",
       "      <td>1000</td>\n",
       "      <td>1000000</td>\n",
       "    </tr>\n",
       "    <tr>\n",
       "      <th>5511</th>\n",
       "      <td>1000</td>\n",
       "      <td>1000000</td>\n",
       "    </tr>\n",
       "    <tr>\n",
       "      <th>14454</th>\n",
       "      <td>1000</td>\n",
       "      <td>1000000</td>\n",
       "    </tr>\n",
       "    <tr>\n",
       "      <th>20612</th>\n",
       "      <td>1000</td>\n",
       "      <td>1000000</td>\n",
       "    </tr>\n",
       "    <tr>\n",
       "      <th>345</th>\n",
       "      <td>1000</td>\n",
       "      <td>1000000</td>\n",
       "    </tr>\n",
       "  </tbody>\n",
       "</table>\n",
       "</div>"
      ],
      "text/plain": [
       "      power_1  power_2\n",
       "3402     1000  1000000\n",
       "5511     1000  1000000\n",
       "14454    1000  1000000\n",
       "20612    1000  1000000\n",
       "345      1000  1000000"
      ]
     },
     "execution_count": 188,
     "metadata": {},
     "output_type": "execute_result"
    }
   ],
   "source": [
    "poly2_data.head()"
   ]
  },
  {
   "cell_type": "code",
   "execution_count": 189,
   "metadata": {
    "collapsed": true
   },
   "outputs": [],
   "source": [
    "model2 = linear_model.LinearRegression()"
   ]
  },
  {
   "cell_type": "code",
   "execution_count": 324,
   "metadata": {
    "collapsed": true
   },
   "outputs": [],
   "source": [
    "target = poly2_data['price']\n",
    "predictors2 = ['power_1', 'power_2']"
   ]
  },
  {
   "cell_type": "code",
   "execution_count": 325,
   "metadata": {
    "collapsed": false
   },
   "outputs": [],
   "source": [
    "features2 = poly2_data[predictors2]"
   ]
  },
  {
   "cell_type": "code",
   "execution_count": 326,
   "metadata": {
    "collapsed": false
   },
   "outputs": [
    {
     "data": {
      "text/plain": [
       "LinearRegression(copy_X=True, fit_intercept=True, n_jobs=1, normalize=False)"
      ]
     },
     "execution_count": 326,
     "metadata": {},
     "output_type": "execute_result"
    }
   ],
   "source": [
    "model2.fit(features2, target)"
   ]
  },
  {
   "cell_type": "code",
   "execution_count": 327,
   "metadata": {
    "collapsed": false
   },
   "outputs": [
    {
     "data": {
      "text/plain": [
       "[<matplotlib.lines.Line2D at 0x12c8fba10>,\n",
       " <matplotlib.lines.Line2D at 0x12c8fbb10>,\n",
       " <matplotlib.lines.Line2D at 0x12c8fbc50>,\n",
       " <matplotlib.lines.Line2D at 0x12c909850>]"
      ]
     },
     "execution_count": 327,
     "metadata": {},
     "output_type": "execute_result"
    },
    {
     "data": {
      "image/png": "[encoded data removed]",
      "text/plain": [
       "<matplotlib.figure.Figure at 0x12b8c8050>"
      ]
     },
     "metadata": {},
     "output_type": "display_data"
    }
   ],
   "source": [
    "plt.plot(features2,target,'.',\n",
    "        features2, model2.predict(features2),'-')"
   ]
  },
  {
   "cell_type": "code",
   "execution_count": 21,
   "metadata": {
    "collapsed": true
   },
   "outputs": [],
   "source": [
    "poly3_data = polynomial_dataframe(sales['sqft_living'], 3)\n",
    "poly3_data['price'] = sales['price']"
   ]
  },
  {
   "cell_type": "code",
   "execution_count": 17,
   "metadata": {
    "collapsed": true
   },
   "outputs": [],
   "source": [
    "model3 = linear_model.LinearRegression()"
   ]
  },
  {
   "cell_type": "code",
   "execution_count": 22,
   "metadata": {
    "collapsed": false
   },
   "outputs": [],
   "source": [
    "target = poly3_data['price']\n",
    "predictors3 = ['power_1', 'power_2', 'power_3']"
   ]
  },
  {
   "cell_type": "code",
   "execution_count": 23,
   "metadata": {
    "collapsed": false
   },
   "outputs": [],
   "source": [
    "features3 = poly3_data[predictors3]"
   ]
  },
  {
   "cell_type": "code",
   "execution_count": 24,
   "metadata": {
    "collapsed": false
   },
   "outputs": [
    {
     "data": {
      "text/plain": [
       "LinearRegression(copy_X=True, fit_intercept=True, n_jobs=1, normalize=False)"
      ]
     },
     "execution_count": 24,
     "metadata": {},
     "output_type": "execute_result"
    }
   ],
   "source": [
    "model3.fit(features3, target)"
   ]
  },
  {
   "cell_type": "code",
   "execution_count": 25,
   "metadata": {
    "collapsed": false
   },
   "outputs": [
    {
     "data": {
      "text/plain": [
       "[<matplotlib.lines.Line2D at 0x10a651750>,\n",
       " <matplotlib.lines.Line2D at 0x10a6519d0>,\n",
       " <matplotlib.lines.Line2D at 0x10a651bd0>,\n",
       " <matplotlib.lines.Line2D at 0x10a651d50>,\n",
       " <matplotlib.lines.Line2D at 0x10a63ccd0>,\n",
       " <matplotlib.lines.Line2D at 0x10a63ce90>]"
      ]
     },
     "execution_count": 25,
     "metadata": {},
     "output_type": "execute_result"
    }
   ],
   "source": [
    "plt.plot(features3,target,'.',\n",
    "        features3, model3.predict(features3),'-')"
   ]
  },
  {
   "cell_type": "code",
   "execution_count": 27,
   "metadata": {
    "collapsed": false
   },
   "outputs": [
    {
     "name": "stdout",
     "output_type": "stream",
     "text": [
      "('Coefficients: %x', array([ -9.01819864e+01,   8.70465089e-02,  -3.84055260e-06]))\n",
      "[ -9.01819864e+01   8.70465089e-02  -3.84055260e-06]\n"
     ]
    }
   ],
   "source": [
    "print('Coefficients: %x', model3.coef_)\n",
    "print model3.coef_"
   ]
  },
  {
   "cell_type": "code",
   "execution_count": 242,
   "metadata": {
    "collapsed": false
   },
   "outputs": [
    {
     "data": {
      "text/plain": [
       "336819.74822294805"
      ]
     },
     "execution_count": 242,
     "metadata": {},
     "output_type": "execute_result"
    }
   ],
   "source": [
    "model3.intercept_"
   ]
  },
  {
   "cell_type": "code",
   "execution_count": 261,
   "metadata": {
    "collapsed": true
   },
   "outputs": [],
   "source": [
    "poly15_data = polynomial_dataframe(sales['sqft_living'], 15)\n",
    "poly15_data['price'] = sales['price']"
   ]
  },
  {
   "cell_type": "code",
   "execution_count": 231,
   "metadata": {
    "collapsed": true
   },
   "outputs": [],
   "source": [
    "model15 = linear_model.LinearRegression()"
   ]
  },
  {
   "cell_type": "code",
   "execution_count": 232,
   "metadata": {
    "collapsed": true
   },
   "outputs": [],
   "source": [
    "predictors15 = ['power_1', 'power_2', 'power_3', 'power_4', 'power_5', 'power_6', 'power_7', 'power_8', 'power_9', \n",
    "               'power_10', 'power_11', 'power_12', 'power_13', 'power_14', 'power_15']"
   ]
  },
  {
   "cell_type": "code",
   "execution_count": 236,
   "metadata": {
    "collapsed": true
   },
   "outputs": [],
   "source": [
    "features15 = poly15_data[predictors15]"
   ]
  },
  {
   "cell_type": "code",
   "execution_count": 237,
   "metadata": {
    "collapsed": false
   },
   "outputs": [
    {
     "data": {
      "text/plain": [
       "LinearRegression(copy_X=True, fit_intercept=True, n_jobs=1, normalize=False)"
      ]
     },
     "execution_count": 237,
     "metadata": {},
     "output_type": "execute_result"
    }
   ],
   "source": [
    "model15.fit(features15, target)"
   ]
  },
  {
   "cell_type": "code",
   "execution_count": 238,
   "metadata": {
    "collapsed": false
   },
   "outputs": [
    {
     "data": {
      "text/plain": [
       "[<matplotlib.lines.Line2D at 0x120ba7890>,\n",
       " <matplotlib.lines.Line2D at 0x120ba7990>,\n",
       " <matplotlib.lines.Line2D at 0x120ba7a90>,\n",
       " <matplotlib.lines.Line2D at 0x120ba7b90>,\n",
       " <matplotlib.lines.Line2D at 0x120ba7c90>,\n",
       " <matplotlib.lines.Line2D at 0x120ba7d90>,\n",
       " <matplotlib.lines.Line2D at 0x120ba7e90>,\n",
       " <matplotlib.lines.Line2D at 0x120ba7f90>,\n",
       " <matplotlib.lines.Line2D at 0x120bb40d0>,\n",
       " <matplotlib.lines.Line2D at 0x120bb41d0>,\n",
       " <matplotlib.lines.Line2D at 0x120bb42d0>,\n",
       " <matplotlib.lines.Line2D at 0x120bb43d0>,\n",
       " <matplotlib.lines.Line2D at 0x120181790>,\n",
       " <matplotlib.lines.Line2D at 0x120bb45d0>,\n",
       " <matplotlib.lines.Line2D at 0x120bb46d0>,\n",
       " <matplotlib.lines.Line2D at 0x120bb47d0>,\n",
       " <matplotlib.lines.Line2D at 0x122edd5d0>,\n",
       " <matplotlib.lines.Line2D at 0x122edd710>,\n",
       " <matplotlib.lines.Line2D at 0x120bb44d0>,\n",
       " <matplotlib.lines.Line2D at 0x122edd990>,\n",
       " <matplotlib.lines.Line2D at 0x122eddad0>,\n",
       " <matplotlib.lines.Line2D at 0x122eddc10>,\n",
       " <matplotlib.lines.Line2D at 0x122eddd50>,\n",
       " <matplotlib.lines.Line2D at 0x122edde90>,\n",
       " <matplotlib.lines.Line2D at 0x122edd850>,\n",
       " <matplotlib.lines.Line2D at 0x122ee6150>,\n",
       " <matplotlib.lines.Line2D at 0x122ee6290>,\n",
       " <matplotlib.lines.Line2D at 0x122ee63d0>,\n",
       " <matplotlib.lines.Line2D at 0x122ee6510>,\n",
       " <matplotlib.lines.Line2D at 0x122ee6650>]"
      ]
     },
     "execution_count": 238,
     "metadata": {},
     "output_type": "execute_result"
    },
    {
     "data": {
      "image/png": "[encoded data removed]",
      "text/plain": [
       "<matplotlib.figure.Figure at 0x120647c90>"
      ]
     },
     "metadata": {},
     "output_type": "display_data"
    }
   ],
   "source": [
    "plt.plot(features15,target,'.',\n",
    "        features15, model15.predict(features15),'-')"
   ]
  },
  {
   "cell_type": "code",
   "execution_count": 239,
   "metadata": {
    "collapsed": false
   },
   "outputs": [
    {
     "name": "stdout",
     "output_type": "stream",
     "text": [
      "('Coefficients: %x', array([  4.56404164e-91,  -2.64605835e-50,  -1.24953103e-57,\n",
      "        -2.48920611e-60,   1.19863929e-74,   2.68575522e-71,\n",
      "         2.26147568e-67,   1.85900299e-63,   1.47144116e-59,\n",
      "         1.09771012e-55,   7.43509038e-52,   4.23015578e-48,\n",
      "         1.61618577e-44,  -2.49283826e-48,   9.59718336e-53]))\n"
     ]
    }
   ],
   "source": [
    "print('Coefficients: %x', model15.coef_)"
   ]
  },
  {
   "cell_type": "code",
   "execution_count": 241,
   "metadata": {
    "collapsed": false
   },
   "outputs": [
    {
     "data": {
      "text/plain": [
       "537116.32963773608"
      ]
     },
     "execution_count": 241,
     "metadata": {},
     "output_type": "execute_result"
    }
   ],
   "source": [
    "model15.intercept_"
   ]
  },
  {
   "cell_type": "code",
   "execution_count": 245,
   "metadata": {
    "collapsed": false
   },
   "outputs": [],
   "source": [
    "house_set_1 = pd.read_csv(\"wk3_kc_house_set_1_data.csv\")"
   ]
  },
  {
   "cell_type": "code",
   "execution_count": 246,
   "metadata": {
    "collapsed": true
   },
   "outputs": [],
   "source": [
    "house_set_2 = pd.read_csv(\"wk3_kc_house_set_2_data.csv\")"
   ]
  },
  {
   "cell_type": "code",
   "execution_count": 247,
   "metadata": {
    "collapsed": true
   },
   "outputs": [],
   "source": [
    "house_set_3 = pd.read_csv(\"wk3_kc_house_set_3_data.csv\")"
   ]
  },
  {
   "cell_type": "code",
   "execution_count": 248,
   "metadata": {
    "collapsed": true
   },
   "outputs": [],
   "source": [
    "house_set_4 = pd.read_csv(\"wk3_kc_house_set_4_data.csv\")"
   ]
  },
  {
   "cell_type": "code",
   "execution_count": 288,
   "metadata": {
    "collapsed": false
   },
   "outputs": [],
   "source": [
    "poly15_data_set1 = polynomial_dataframe(house_set_1['sqft_living'], 15)\n",
    "poly15_data_set1['price'] = house_set_1['price']"
   ]
  },
  {
   "cell_type": "code",
   "execution_count": 289,
   "metadata": {
    "collapsed": false
   },
   "outputs": [],
   "source": [
    "target15_set1 = poly15_data_set1['price']\n",
    "model15_set1 = linear_model.LinearRegression()\n",
    "predictors15 = ['power_1', 'power_2', 'power_3', 'power_4', 'power_5', 'power_6', 'power_7', 'power_8', 'power_9', \n",
    "               'power_10', 'power_11', 'power_12', 'power_13', 'power_14', 'power_15']\n",
    "features15_set1 = poly15_data_set1[predictors15]"
   ]
  },
  {
   "cell_type": "code",
   "execution_count": 290,
   "metadata": {
    "collapsed": false
   },
   "outputs": [
    {
     "data": {
      "text/plain": [
       "LinearRegression(copy_X=True, fit_intercept=True, n_jobs=1, normalize=False)"
      ]
     },
     "execution_count": 290,
     "metadata": {},
     "output_type": "execute_result"
    }
   ],
   "source": [
    "model15_set1.fit(features15_set1, target15_set1 )"
   ]
  },
  {
   "cell_type": "code",
   "execution_count": 291,
   "metadata": {
    "collapsed": false
   },
   "outputs": [
    {
     "data": {
      "text/plain": [
       "[<matplotlib.lines.Line2D at 0x128ef1390>,\n",
       " <matplotlib.lines.Line2D at 0x128f6c3d0>,\n",
       " <matplotlib.lines.Line2D at 0x128f6c510>,\n",
       " <matplotlib.lines.Line2D at 0x128f6c610>,\n",
       " <matplotlib.lines.Line2D at 0x128f6c710>,\n",
       " <matplotlib.lines.Line2D at 0x128f6c810>,\n",
       " <matplotlib.lines.Line2D at 0x128f6c910>,\n",
       " <matplotlib.lines.Line2D at 0x128f6ca10>,\n",
       " <matplotlib.lines.Line2D at 0x128f6cb10>,\n",
       " <matplotlib.lines.Line2D at 0x128f6cc10>,\n",
       " <matplotlib.lines.Line2D at 0x128f6cd10>,\n",
       " <matplotlib.lines.Line2D at 0x128f6ce10>,\n",
       " <matplotlib.lines.Line2D at 0x128546ed0>,\n",
       " <matplotlib.lines.Line2D at 0x128c8f050>,\n",
       " <matplotlib.lines.Line2D at 0x128c8f150>,\n",
       " <matplotlib.lines.Line2D at 0x128c8f250>,\n",
       " <matplotlib.lines.Line2D at 0x128c74e50>,\n",
       " <matplotlib.lines.Line2D at 0x128c74f90>,\n",
       " <matplotlib.lines.Line2D at 0x128f6cf10>,\n",
       " <matplotlib.lines.Line2D at 0x128c67250>,\n",
       " <matplotlib.lines.Line2D at 0x128c67390>,\n",
       " <matplotlib.lines.Line2D at 0x128c674d0>,\n",
       " <matplotlib.lines.Line2D at 0x128c67610>,\n",
       " <matplotlib.lines.Line2D at 0x128c67750>,\n",
       " <matplotlib.lines.Line2D at 0x128c67110>,\n",
       " <matplotlib.lines.Line2D at 0x128c679d0>,\n",
       " <matplotlib.lines.Line2D at 0x128c67b10>,\n",
       " <matplotlib.lines.Line2D at 0x128c67c50>,\n",
       " <matplotlib.lines.Line2D at 0x128c67d90>,\n",
       " <matplotlib.lines.Line2D at 0x128c67ed0>]"
      ]
     },
     "execution_count": 291,
     "metadata": {},
     "output_type": "execute_result"
    },
    {
     "data": {
      "image/png": "[encoded data removed]",
      "text/plain": [
       "<matplotlib.figure.Figure at 0x11dbcbf10>"
      ]
     },
     "metadata": {},
     "output_type": "display_data"
    }
   ],
   "source": [
    "plt.plot(features15_set1,target15_set1 ,'.',\n",
    "        features15_set1, model15_set1.predict(features15_set1),'-')"
   ]
  },
  {
   "cell_type": "code",
   "execution_count": 292,
   "metadata": {
    "collapsed": false
   },
   "outputs": [
    {
     "data": {
      "text/plain": [
       "array([  3.05794168e-90,  -1.69394901e-49,   2.35909107e-55,\n",
       "         1.21888065e-88,   3.23082736e-74,   1.10358333e-70,\n",
       "         8.37724029e-67,   6.23411957e-63,   4.49156442e-59,\n",
       "         3.06938763e-55,   1.91749300e-51,   1.01335180e-47,\n",
       "         3.62176959e-44,  -5.63501661e-48,   2.18641116e-52])"
      ]
     },
     "execution_count": 292,
     "metadata": {},
     "output_type": "execute_result"
    }
   ],
   "source": [
    "model15_set1.coef_"
   ]
  },
  {
   "cell_type": "code",
   "execution_count": 295,
   "metadata": {
    "collapsed": false
   },
   "outputs": [],
   "source": [
    "poly15_data_set2 = polynomial_dataframe(house_set_2['sqft_living'], 15)\n",
    "poly15_data_set2['price'] = house_set_2['price']"
   ]
  },
  {
   "cell_type": "code",
   "execution_count": 296,
   "metadata": {
    "collapsed": true
   },
   "outputs": [],
   "source": [
    "target15_set2 = poly15_data_set2['price']\n",
    "model15_set2 = linear_model.LinearRegression()\n",
    "predictors15 = ['power_1', 'power_2', 'power_3', 'power_4', 'power_5', 'power_6', 'power_7', 'power_8', 'power_9', \n",
    "               'power_10', 'power_11', 'power_12', 'power_13', 'power_14', 'power_15']\n",
    "features15_set2 = poly15_data_set2[predictors15]"
   ]
  },
  {
   "cell_type": "code",
   "execution_count": 297,
   "metadata": {
    "collapsed": false
   },
   "outputs": [
    {
     "data": {
      "text/plain": [
       "LinearRegression(copy_X=True, fit_intercept=True, n_jobs=1, normalize=False)"
      ]
     },
     "execution_count": 297,
     "metadata": {},
     "output_type": "execute_result"
    }
   ],
   "source": [
    "model15_set2.fit(features15_set2, target15_set2 )"
   ]
  },
  {
   "cell_type": "code",
   "execution_count": 298,
   "metadata": {
    "collapsed": false
   },
   "outputs": [
    {
     "data": {
      "text/plain": [
       "[<matplotlib.lines.Line2D at 0x128c3d390>,\n",
       " <matplotlib.lines.Line2D at 0x12a515b10>,\n",
       " <matplotlib.lines.Line2D at 0x12a515c50>,\n",
       " <matplotlib.lines.Line2D at 0x12a515d50>,\n",
       " <matplotlib.lines.Line2D at 0x12a515e50>,\n",
       " <matplotlib.lines.Line2D at 0x12a515f50>,\n",
       " <matplotlib.lines.Line2D at 0x12a506090>,\n",
       " <matplotlib.lines.Line2D at 0x12a506190>,\n",
       " <matplotlib.lines.Line2D at 0x12a506290>,\n",
       " <matplotlib.lines.Line2D at 0x12a506390>,\n",
       " <matplotlib.lines.Line2D at 0x12a506490>,\n",
       " <matplotlib.lines.Line2D at 0x12a506590>,\n",
       " <matplotlib.lines.Line2D at 0x12a30b690>,\n",
       " <matplotlib.lines.Line2D at 0x12a506790>,\n",
       " <matplotlib.lines.Line2D at 0x12a506890>,\n",
       " <matplotlib.lines.Line2D at 0x12a506990>,\n",
       " <matplotlib.lines.Line2D at 0x12a361790>,\n",
       " <matplotlib.lines.Line2D at 0x12a3618d0>,\n",
       " <matplotlib.lines.Line2D at 0x12a506690>,\n",
       " <matplotlib.lines.Line2D at 0x12a361b50>,\n",
       " <matplotlib.lines.Line2D at 0x12a361c90>,\n",
       " <matplotlib.lines.Line2D at 0x12a361dd0>,\n",
       " <matplotlib.lines.Line2D at 0x12a361f10>,\n",
       " <matplotlib.lines.Line2D at 0x12a42e090>,\n",
       " <matplotlib.lines.Line2D at 0x12a361a10>,\n",
       " <matplotlib.lines.Line2D at 0x12a42e310>,\n",
       " <matplotlib.lines.Line2D at 0x12a42e450>,\n",
       " <matplotlib.lines.Line2D at 0x12a42e590>,\n",
       " <matplotlib.lines.Line2D at 0x12a42e6d0>,\n",
       " <matplotlib.lines.Line2D at 0x12a42e810>]"
      ]
     },
     "execution_count": 298,
     "metadata": {},
     "output_type": "execute_result"
    },
    {
     "data": {
      "image/png": "[encoded data removed]",
      "text/plain": [
       "<matplotlib.figure.Figure at 0x128ab9e10>"
      ]
     },
     "metadata": {},
     "output_type": "display_data"
    }
   ],
   "source": [
    "plt.plot(features15_set2,target15_set2 ,'.',\n",
    "        features15_set2, model15_set2.predict(features15_set2),'-')"
   ]
  },
  {
   "cell_type": "code",
   "execution_count": 299,
   "metadata": {
    "collapsed": false
   },
   "outputs": [
    {
     "data": {
      "text/plain": [
       "array([  2.71335943e-77,   7.33542378e-39,  -1.85052532e-44,\n",
       "         1.39000496e-49,   5.73786189e-71,   1.51934986e-58,\n",
       "         3.64549609e-55,   1.50416255e-51,   5.76015653e-48,\n",
       "         1.95770493e-44,   5.39396528e-41,   9.40376341e-38,\n",
       "        -3.63529134e-41,   4.65476514e-45,  -1.97198945e-49])"
      ]
     },
     "execution_count": 299,
     "metadata": {},
     "output_type": "execute_result"
    }
   ],
   "source": [
    "model15_set2.coef_"
   ]
  },
  {
   "cell_type": "code",
   "execution_count": 300,
   "metadata": {
    "collapsed": true
   },
   "outputs": [],
   "source": [
    "poly15_data_set3 = polynomial_dataframe(house_set_3['sqft_living'], 15)\n",
    "poly15_data_set3['price'] = house_set_3['price']"
   ]
  },
  {
   "cell_type": "code",
   "execution_count": 301,
   "metadata": {
    "collapsed": true
   },
   "outputs": [],
   "source": [
    "target15_set3 = poly15_data_set3['price']\n",
    "model15_set3 = linear_model.LinearRegression()\n",
    "predictors15 = ['power_1', 'power_2', 'power_3', 'power_4', 'power_5', 'power_6', 'power_7', 'power_8', 'power_9', \n",
    "               'power_10', 'power_11', 'power_12', 'power_13', 'power_14', 'power_15']\n",
    "features15_set3 = poly15_data_set3[predictors15]"
   ]
  },
  {
   "cell_type": "code",
   "execution_count": 302,
   "metadata": {
    "collapsed": false
   },
   "outputs": [
    {
     "data": {
      "text/plain": [
       "LinearRegression(copy_X=True, fit_intercept=True, n_jobs=1, normalize=False)"
      ]
     },
     "execution_count": 302,
     "metadata": {},
     "output_type": "execute_result"
    }
   ],
   "source": [
    "model15_set3.fit(features15_set3, target15_set3 )"
   ]
  },
  {
   "cell_type": "code",
   "execution_count": 303,
   "metadata": {
    "collapsed": false
   },
   "outputs": [
    {
     "data": {
      "text/plain": [
       "[<matplotlib.lines.Line2D at 0x12aadf710>,\n",
       " <matplotlib.lines.Line2D at 0x12acd0d10>,\n",
       " <matplotlib.lines.Line2D at 0x12acd0e50>,\n",
       " <matplotlib.lines.Line2D at 0x12acd0f50>,\n",
       " <matplotlib.lines.Line2D at 0x12acde090>,\n",
       " <matplotlib.lines.Line2D at 0x12acde190>,\n",
       " <matplotlib.lines.Line2D at 0x12acde290>,\n",
       " <matplotlib.lines.Line2D at 0x12acde390>,\n",
       " <matplotlib.lines.Line2D at 0x12acde490>,\n",
       " <matplotlib.lines.Line2D at 0x12acde590>,\n",
       " <matplotlib.lines.Line2D at 0x12acde690>,\n",
       " <matplotlib.lines.Line2D at 0x12acde790>,\n",
       " <matplotlib.lines.Line2D at 0x12aaebf90>,\n",
       " <matplotlib.lines.Line2D at 0x12acde990>,\n",
       " <matplotlib.lines.Line2D at 0x12acdea90>,\n",
       " <matplotlib.lines.Line2D at 0x12acdeb90>,\n",
       " <matplotlib.lines.Line2D at 0x12ad19990>,\n",
       " <matplotlib.lines.Line2D at 0x12ad19ad0>,\n",
       " <matplotlib.lines.Line2D at 0x12acde890>,\n",
       " <matplotlib.lines.Line2D at 0x12ad19d50>,\n",
       " <matplotlib.lines.Line2D at 0x12ad19e90>,\n",
       " <matplotlib.lines.Line2D at 0x12ad19fd0>,\n",
       " <matplotlib.lines.Line2D at 0x12ad26150>,\n",
       " <matplotlib.lines.Line2D at 0x12ad26290>,\n",
       " <matplotlib.lines.Line2D at 0x12ad19c10>,\n",
       " <matplotlib.lines.Line2D at 0x12ad26510>,\n",
       " <matplotlib.lines.Line2D at 0x12ad26650>,\n",
       " <matplotlib.lines.Line2D at 0x12ad26790>,\n",
       " <matplotlib.lines.Line2D at 0x12ad268d0>,\n",
       " <matplotlib.lines.Line2D at 0x12ad26a10>]"
      ]
     },
     "execution_count": 303,
     "metadata": {},
     "output_type": "execute_result"
    },
    {
     "data": {
      "image/png": "[encoded data removed]",
      "text/plain": [
       "<matplotlib.figure.Figure at 0x128c20bd0>"
      ]
     },
     "metadata": {},
     "output_type": "display_data"
    }
   ],
   "source": [
    "plt.plot(features15_set3,target15_set3 ,'.',\n",
    "        features15_set3, model15_set3.predict(features15_set3),'-')"
   ]
  },
  {
   "cell_type": "code",
   "execution_count": 304,
   "metadata": {
    "collapsed": false
   },
   "outputs": [
    {
     "data": {
      "text/plain": [
       "array([  2.83751934e-88,  -7.80224149e-49,   4.71702283e-55,\n",
       "         3.22507898e-85,   1.57170169e-72,   4.27894908e-69,\n",
       "         2.68009626e-65,   1.63911362e-61,   9.66435015e-58,\n",
       "         5.38044653e-54,   2.72563636e-50,   1.16253248e-46,\n",
       "         3.33756141e-43,  -6.76238818e-47,   3.43132932e-51])"
      ]
     },
     "execution_count": 304,
     "metadata": {},
     "output_type": "execute_result"
    }
   ],
   "source": [
    "model15_set3.coef_"
   ]
  },
  {
   "cell_type": "code",
   "execution_count": 306,
   "metadata": {
    "collapsed": false
   },
   "outputs": [],
   "source": [
    "poly15_data_set4 = polynomial_dataframe(house_set_4['sqft_living'], 15)\n",
    "poly15_data_set4['price'] = house_set_4['price']"
   ]
  },
  {
   "cell_type": "code",
   "execution_count": 307,
   "metadata": {
    "collapsed": true
   },
   "outputs": [],
   "source": [
    "target15_set4 = poly15_data_set4['price']\n",
    "model15_set4 = linear_model.LinearRegression()\n",
    "predictors15 = ['power_1', 'power_2', 'power_3', 'power_4', 'power_5', 'power_6', 'power_7', 'power_8', 'power_9', \n",
    "               'power_10', 'power_11', 'power_12', 'power_13', 'power_14', 'power_15']\n",
    "features15_set4 = poly15_data_set4[predictors15]"
   ]
  },
  {
   "cell_type": "code",
   "execution_count": 308,
   "metadata": {
    "collapsed": false
   },
   "outputs": [
    {
     "data": {
      "text/plain": [
       "LinearRegression(copy_X=True, fit_intercept=True, n_jobs=1, normalize=False)"
      ]
     },
     "execution_count": 308,
     "metadata": {},
     "output_type": "execute_result"
    }
   ],
   "source": [
    "model15_set4.fit(features15_set4, target15_set4 )"
   ]
  },
  {
   "cell_type": "code",
   "execution_count": 309,
   "metadata": {
    "collapsed": false
   },
   "outputs": [
    {
     "data": {
      "text/plain": [
       "[<matplotlib.lines.Line2D at 0x120418d50>,\n",
       " <matplotlib.lines.Line2D at 0x12b8394d0>,\n",
       " <matplotlib.lines.Line2D at 0x12b839610>,\n",
       " <matplotlib.lines.Line2D at 0x12b839710>,\n",
       " <matplotlib.lines.Line2D at 0x12b839810>,\n",
       " <matplotlib.lines.Line2D at 0x12b839910>,\n",
       " <matplotlib.lines.Line2D at 0x12b839a10>,\n",
       " <matplotlib.lines.Line2D at 0x12b839b10>,\n",
       " <matplotlib.lines.Line2D at 0x12b839c10>,\n",
       " <matplotlib.lines.Line2D at 0x12b839d10>,\n",
       " <matplotlib.lines.Line2D at 0x12b839e10>,\n",
       " <matplotlib.lines.Line2D at 0x12b839f10>,\n",
       " <matplotlib.lines.Line2D at 0x1284ce850>,\n",
       " <matplotlib.lines.Line2D at 0x12b82c150>,\n",
       " <matplotlib.lines.Line2D at 0x12b82c250>,\n",
       " <matplotlib.lines.Line2D at 0x12b82c350>,\n",
       " <matplotlib.lines.Line2D at 0x12b9f6150>,\n",
       " <matplotlib.lines.Line2D at 0x12b9f6290>,\n",
       " <matplotlib.lines.Line2D at 0x12b82c050>,\n",
       " <matplotlib.lines.Line2D at 0x12b9f6510>,\n",
       " <matplotlib.lines.Line2D at 0x12b9f6650>,\n",
       " <matplotlib.lines.Line2D at 0x12b9f6790>,\n",
       " <matplotlib.lines.Line2D at 0x12b9f68d0>,\n",
       " <matplotlib.lines.Line2D at 0x12b9f6a10>,\n",
       " <matplotlib.lines.Line2D at 0x12b9f63d0>,\n",
       " <matplotlib.lines.Line2D at 0x12b9f6c90>,\n",
       " <matplotlib.lines.Line2D at 0x12b9f6dd0>,\n",
       " <matplotlib.lines.Line2D at 0x12b9f6f10>,\n",
       " <matplotlib.lines.Line2D at 0x12b9ea090>,\n",
       " <matplotlib.lines.Line2D at 0x12b9ea1d0>]"
      ]
     },
     "execution_count": 309,
     "metadata": {},
     "output_type": "execute_result"
    },
    {
     "data": {
      "image/png": "[encoded data removed]",
      "text/plain": [
       "<matplotlib.figure.Figure at 0x120498050>"
      ]
     },
     "metadata": {},
     "output_type": "display_data"
    }
   ],
   "source": [
    "plt.plot(features15_set4,target15_set4 ,'.',\n",
    "        features15_set4, model15_set4.predict(features15_set4),'-')"
   ]
  },
  {
   "cell_type": "code",
   "execution_count": 310,
   "metadata": {
    "collapsed": false
   },
   "outputs": [
    {
     "data": {
      "text/plain": [
       "array([  1.37116050e-76,   2.79678987e-40,  -2.13061853e-44,\n",
       "        -5.70015158e-49,   4.17619486e-53,   5.29002497e-58,\n",
       "         1.27070046e-54,   4.87868972e-51,   1.73549022e-47,\n",
       "         5.47058320e-44,   1.39587599e-40,   2.25041871e-37,\n",
       "        -9.43954119e-41,   1.31573060e-44,  -6.09163421e-49])"
      ]
     },
     "execution_count": 310,
     "metadata": {},
     "output_type": "execute_result"
    }
   ],
   "source": [
    "model15_set4.coef_"
   ]
  },
  {
   "cell_type": "code",
   "execution_count": 441,
   "metadata": {
    "collapsed": true
   },
   "outputs": [],
   "source": [
    "train_data = pd.read_csv(\"wk3_kc_house_train_data.csv\")"
   ]
  },
  {
   "cell_type": "code",
   "execution_count": 442,
   "metadata": {
    "collapsed": true
   },
   "outputs": [],
   "source": [
    "test_data = pd.read_csv(\"wk3_kc_house_test_data.csv\")"
   ]
  },
  {
   "cell_type": "code",
   "execution_count": 510,
   "metadata": {
    "collapsed": false
   },
   "outputs": [
    {
     "data": {
      "text/html": [
       "<div>\n",
       "<table border=\"1\" class=\"dataframe\">\n",
       "  <thead>\n",
       "    <tr style=\"text-align: right;\">\n",
       "      <th></th>\n",
       "      <th>id</th>\n",
       "      <th>date</th>\n",
       "      <th>price</th>\n",
       "      <th>bedrooms</th>\n",
       "      <th>bathrooms</th>\n",
       "      <th>sqft_living</th>\n",
       "      <th>sqft_lot</th>\n",
       "      <th>floors</th>\n",
       "      <th>waterfront</th>\n",
       "      <th>view</th>\n",
       "      <th>...</th>\n",
       "      <th>grade</th>\n",
       "      <th>sqft_above</th>\n",
       "      <th>sqft_basement</th>\n",
       "      <th>yr_built</th>\n",
       "      <th>yr_renovated</th>\n",
       "      <th>zipcode</th>\n",
       "      <th>lat</th>\n",
       "      <th>long</th>\n",
       "      <th>sqft_living15</th>\n",
       "      <th>sqft_lot15</th>\n",
       "    </tr>\n",
       "  </thead>\n",
       "  <tbody>\n",
       "    <tr>\n",
       "      <th>0</th>\n",
       "      <td>7129300520</td>\n",
       "      <td>20141013T000000</td>\n",
       "      <td>221900.0</td>\n",
       "      <td>3</td>\n",
       "      <td>1.00</td>\n",
       "      <td>1180</td>\n",
       "      <td>5650</td>\n",
       "      <td>1.0</td>\n",
       "      <td>0</td>\n",
       "      <td>0</td>\n",
       "      <td>...</td>\n",
       "      <td>7</td>\n",
       "      <td>1180</td>\n",
       "      <td>0</td>\n",
       "      <td>1955</td>\n",
       "      <td>0</td>\n",
       "      <td>98178</td>\n",
       "      <td>47.5112</td>\n",
       "      <td>-122.257</td>\n",
       "      <td>1340</td>\n",
       "      <td>5650</td>\n",
       "    </tr>\n",
       "    <tr>\n",
       "      <th>1</th>\n",
       "      <td>6414100192</td>\n",
       "      <td>20141209T000000</td>\n",
       "      <td>538000.0</td>\n",
       "      <td>3</td>\n",
       "      <td>2.25</td>\n",
       "      <td>2570</td>\n",
       "      <td>7242</td>\n",
       "      <td>2.0</td>\n",
       "      <td>0</td>\n",
       "      <td>0</td>\n",
       "      <td>...</td>\n",
       "      <td>7</td>\n",
       "      <td>2170</td>\n",
       "      <td>400</td>\n",
       "      <td>1951</td>\n",
       "      <td>1991</td>\n",
       "      <td>98125</td>\n",
       "      <td>47.7210</td>\n",
       "      <td>-122.319</td>\n",
       "      <td>1690</td>\n",
       "      <td>7639</td>\n",
       "    </tr>\n",
       "    <tr>\n",
       "      <th>2</th>\n",
       "      <td>5631500400</td>\n",
       "      <td>20150225T000000</td>\n",
       "      <td>180000.0</td>\n",
       "      <td>2</td>\n",
       "      <td>1.00</td>\n",
       "      <td>770</td>\n",
       "      <td>10000</td>\n",
       "      <td>1.0</td>\n",
       "      <td>0</td>\n",
       "      <td>0</td>\n",
       "      <td>...</td>\n",
       "      <td>6</td>\n",
       "      <td>770</td>\n",
       "      <td>0</td>\n",
       "      <td>1933</td>\n",
       "      <td>0</td>\n",
       "      <td>98028</td>\n",
       "      <td>47.7379</td>\n",
       "      <td>-122.233</td>\n",
       "      <td>2720</td>\n",
       "      <td>8062</td>\n",
       "    </tr>\n",
       "    <tr>\n",
       "      <th>3</th>\n",
       "      <td>1954400510</td>\n",
       "      <td>20150218T000000</td>\n",
       "      <td>510000.0</td>\n",
       "      <td>3</td>\n",
       "      <td>2.00</td>\n",
       "      <td>1680</td>\n",
       "      <td>8080</td>\n",
       "      <td>1.0</td>\n",
       "      <td>0</td>\n",
       "      <td>0</td>\n",
       "      <td>...</td>\n",
       "      <td>8</td>\n",
       "      <td>1680</td>\n",
       "      <td>0</td>\n",
       "      <td>1987</td>\n",
       "      <td>0</td>\n",
       "      <td>98074</td>\n",
       "      <td>47.6168</td>\n",
       "      <td>-122.045</td>\n",
       "      <td>1800</td>\n",
       "      <td>7503</td>\n",
       "    </tr>\n",
       "    <tr>\n",
       "      <th>4</th>\n",
       "      <td>1321400060</td>\n",
       "      <td>20140627T000000</td>\n",
       "      <td>257500.0</td>\n",
       "      <td>3</td>\n",
       "      <td>2.25</td>\n",
       "      <td>1715</td>\n",
       "      <td>6819</td>\n",
       "      <td>2.0</td>\n",
       "      <td>0</td>\n",
       "      <td>0</td>\n",
       "      <td>...</td>\n",
       "      <td>7</td>\n",
       "      <td>1715</td>\n",
       "      <td>0</td>\n",
       "      <td>1995</td>\n",
       "      <td>0</td>\n",
       "      <td>98003</td>\n",
       "      <td>47.3097</td>\n",
       "      <td>-122.327</td>\n",
       "      <td>2238</td>\n",
       "      <td>6819</td>\n",
       "    </tr>\n",
       "  </tbody>\n",
       "</table>\n",
       "<p>5 rows × 21 columns</p>\n",
       "</div>"
      ],
      "text/plain": [
       "           id             date     price  bedrooms  bathrooms  sqft_living  \\\n",
       "0  7129300520  20141013T000000  221900.0         3       1.00         1180   \n",
       "1  6414100192  20141209T000000  538000.0         3       2.25         2570   \n",
       "2  5631500400  20150225T000000  180000.0         2       1.00          770   \n",
       "3  1954400510  20150218T000000  510000.0         3       2.00         1680   \n",
       "4  1321400060  20140627T000000  257500.0         3       2.25         1715   \n",
       "\n",
       "   sqft_lot  floors  waterfront  view     ...      grade  sqft_above  \\\n",
       "0      5650     1.0           0     0     ...          7        1180   \n",
       "1      7242     2.0           0     0     ...          7        2170   \n",
       "2     10000     1.0           0     0     ...          6         770   \n",
       "3      8080     1.0           0     0     ...          8        1680   \n",
       "4      6819     2.0           0     0     ...          7        1715   \n",
       "\n",
       "   sqft_basement  yr_built  yr_renovated  zipcode      lat     long  \\\n",
       "0              0      1955             0    98178  47.5112 -122.257   \n",
       "1            400      1951          1991    98125  47.7210 -122.319   \n",
       "2              0      1933             0    98028  47.7379 -122.233   \n",
       "3              0      1987             0    98074  47.6168 -122.045   \n",
       "4              0      1995             0    98003  47.3097 -122.327   \n",
       "\n",
       "   sqft_living15  sqft_lot15  \n",
       "0           1340        5650  \n",
       "1           1690        7639  \n",
       "2           2720        8062  \n",
       "3           1800        7503  \n",
       "4           2238        6819  \n",
       "\n",
       "[5 rows x 21 columns]"
      ]
     },
     "execution_count": 510,
     "metadata": {},
     "output_type": "execute_result"
    }
   ],
   "source": [
    "valid_data = pd.read_csv(\"wk3_kc_house_valid_data.csv\")\n",
    "valid_data.head()"
   ]
  },
  {
   "cell_type": "code",
   "execution_count": 493,
   "metadata": {
    "collapsed": true
   },
   "outputs": [],
   "source": [
    "def get_residual_sum_of_squares(model, data, outcome):\n",
    "\n",
    "    predictions = model.predict(data)\n",
    "\n",
    "    residuals = predictions - outcome\n",
    "\n",
    "    RSS = (residuals*residuals).sum()\n",
    "\n",
    "    return(RSS)\n",
    "print(\"Residual sum of squares_model14: %.2f\"\n",
    "      % sum((model14_train_data.predict(features14_train_data) - valid_target14) ** 2))"
   ]
  },
  {
   "cell_type": "code",
   "execution_count": 495,
   "metadata": {
    "collapsed": false
   },
   "outputs": [],
   "source": [
    "RSS_deg = 0\n",
    "\n",
    "RSS_min = 1e+20\n",
    "\n",
    "RMSE_deg = 0\n",
    "\n",
    "RMSE_min = 1e+20\n",
    "RMSE_d = {}\n",
    "\n",
    "RSS_val = {}"
   ]
  },
  {
   "cell_type": "code",
   "execution_count": 574,
   "metadata": {
    "collapsed": false
   },
   "outputs": [
    {
     "name": "stdout",
     "output_type": "stream",
     "text": [
      "RSS1: 6.290978863e+14\n",
      "RSS2: 6.23955062707e+14\n",
      "RSS3: 6.25820280252e+14\n",
      "RSS4: 6.29987335647e+14\n",
      "RSS5: 6.28238442033e+14\n",
      "RSS6: 5.662685927e+14\n",
      "RSS7: 1.07384551345e+15\n",
      "RSS8: 7.08792905935e+15\n",
      "RSS9: 4.53032376478e+16\n",
      "RSS10: 2.47550546775e+17\n",
      "RSS11: 1.1941675111e+18\n",
      "RSS12: 5.10228879234e+18\n",
      "RSS13: 7.61623002127e+17\n",
      "RSS14: 2.29756092511e+18\n",
      "RSS15: 6.95503809726e+18\n"
     ]
    }
   ],
   "source": [
    "count = 0\n",
    "for degree in range(1, 15+1):\n",
    "\n",
    "        poly_train = polynomial_dataframe(train_data['sqft_living'], degree)\n",
    "        \n",
    "        predictors = poly_train.columns.values\n",
    "       \n",
    "        poly_train['price'] = train_data['price']\n",
    "        \n",
    "        target = poly_train['price']\n",
    "        features = poly_train[predictors]\n",
    "       \n",
    "        poly_model = linear_model.LinearRegression()\n",
    "        \n",
    "        poly_model.fit(features, target)\n",
    "      \n",
    "        poly_validation = polynomial_dataframe(valid_data['sqft_living'], degree)\n",
    "       \n",
    "        poly_validation['price'] = valid_data['price']\n",
    "        target_val = poly_validation['price'] \n",
    "        features_val = poly_validation[predictors]        \n",
    "        \n",
    "        count = count+1\n",
    "        RSS = \"RSS\"+ str(count) + \":\"\n",
    "        \n",
    "        RSS_val['power_' + str(degree)] = get_residual_sum_of_squares(poly_model, features_val, target_val)\n",
    "        print RSS, RSS_val['power_' + str(degree)]       \n",
    "\n",
    "\n",
    "        "
   ]
  },
  {
   "cell_type": "code",
   "execution_count": 572,
   "metadata": {
    "collapsed": false
   },
   "outputs": [
    {
     "data": {
      "text/plain": [
       "LinearRegression(copy_X=True, fit_intercept=True, n_jobs=1, normalize=False)"
      ]
     },
     "execution_count": 572,
     "metadata": {},
     "output_type": "execute_result"
    }
   ],
   "source": [
    "poly_test = polynomial_dataframe(test_data['sqft_living'], 6)\n",
    "predictors = poly_test.columns.values\n",
    "poly_test['price'] = test_data['price']\n",
    "target_test = poly_test['price']\n",
    "\n",
    "features_test = poly_test[predictors]  \n",
    "poly_model.fit(features_test, target_test)"
   ]
  },
  {
   "cell_type": "code",
   "execution_count": 573,
   "metadata": {
    "collapsed": false
   },
   "outputs": [
    {
     "name": "stdout",
     "output_type": "stream",
     "text": [
      "1.29838943795e+14\n"
     ]
    }
   ],
   "source": [
    "RSS = get_residual_sum_of_squares(poly_model, features_test, target_test)\n",
    "print RSS\n"
   ]
  },
  {
   "cell_type": "code",
   "execution_count": null,
   "metadata": {
    "collapsed": true
   },
   "outputs": [],
   "source": [
    "\n"
   ]
  }
 ],
 "metadata": {
  "kernelspec": {
   "display_name": "Python 2",
   "language": "python",
   "name": "python2"
  },
  "language_info": {
   "codemirror_mode": {
    "name": "ipython",
    "version": 2
   },
   "file_extension": ".py",
   "mimetype": "text/x-python",
   "name": "python",
   "nbconvert_exporter": "python",
   "pygments_lexer": "ipython2",
   "version": "2.7.11"
  }
 },
 "nbformat": 4,
 "nbformat_minor": 0
}
