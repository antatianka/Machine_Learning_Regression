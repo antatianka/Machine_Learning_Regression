{
 "cells": [
  {
   "cell_type": "code",
   "execution_count": 1,
   "metadata": {
    "collapsed": true
   },
   "outputs": [],
   "source": [
    "import math\n",
    "import random\n",
    "import numpy as np\n",
    "import pandas as pd\n",
    "from sklearn import  linear_model\n",
    "from matplotlib import pyplot as plt\n",
    "%matplotlib inline\n",
    "from sklearn.linear_model import Ridge\n",
    "from sklearn.cross_validation import KFold\n",
    "from sklearn.linear_model import RidgeCV"
   ]
  },
  {
   "cell_type": "code",
   "execution_count": 2,
   "metadata": {
    "collapsed": true
   },
   "outputs": [],
   "source": [
    "dtype_dict = {'bathrooms':float, 'waterfront':int, 'sqft_above':int, 'sqft_living15':float, 'grade':int, 'yr_renovated':int, 'price':float, 'bedrooms':float, 'zipcode':str, 'long':float, 'sqft_lot15':float, 'sqft_living':float, 'floors':float, 'condition':int, 'lat':float, 'date':str, 'sqft_basement':int, 'yr_built':int, 'id':str, 'sqft_lot':int, 'view':int}\n",
    "\n",
    "sales = pd.read_csv('kc_house_data.csv', dtype=dtype_dict)\n",
    "sales['floors'] = sales['floors'].astype(int) "
   ]
  },
  {
   "cell_type": "code",
   "execution_count": 3,
   "metadata": {
    "collapsed": true
   },
   "outputs": [],
   "source": [
    "def get_numpy_data(data, features, output):\n",
    "\n",
    "    #Adding a constant collumn with value 1 in the dataframe.\n",
    "    data['constant'] = 1    \n",
    "    #Adding the name of the constant collumn in the feature list.\n",
    "    features = ['constant'] + features\n",
    "    #Creating Feature matrix(Selecting columns and coverting to matrix).\n",
    "    features_matrix=data[features].as_matrix()\n",
    "    \n",
    "    #Target collumn is converted to the numpy array\n",
    "    output_array=np.array(data[output])\n",
    "    \n",
    "    return(features_matrix.astype(int), output_array.astype(int))\n"
   ]
  },
  {
   "cell_type": "code",
   "execution_count": 4,
   "metadata": {
    "collapsed": true
   },
   "outputs": [],
   "source": [
    "def predict_outcome(feature_matrix, weights):\n",
    "    weights=np.array(weights)\n",
    "    predictions = np.dot(feature_matrix, weights)\n",
    "    \n",
    "    return(predictions)\n"
   ]
  },
  {
   "cell_type": "markdown",
   "metadata": {},
   "source": [
    "### Normalize features"
   ]
  },
  {
   "cell_type": "code",
   "execution_count": 12,
   "metadata": {
    "collapsed": true
   },
   "outputs": [],
   "source": [
    "#to normalize features: \n",
    "#divide each feature by its 2-norm so that the transformed feature has norm 1.\n",
    "def normalize_features(features):\n",
    "    \n",
    "    norms = np.linalg.norm(features, axis=0) # gives [norm(X[:,0]), norm(X[:,1]), norm(X[:,2])]\n",
    "    \n",
    "    normalized_features = features / norms\n",
    "    \n",
    "    return (normalized_features, norms)"
   ]
  },
  {
   "cell_type": "code",
   "execution_count": 13,
   "metadata": {
    "collapsed": false
   },
   "outputs": [
    {
     "name": "stdout",
     "output_type": "stream",
     "text": [
      "[  5.  10.  15.]\n",
      "[[ 0.6  0.6  0.6]\n",
      " [ 0.8  0.8  0.8]]\n"
     ]
    }
   ],
   "source": [
    "features, norms = normalize_features(np.array([[3.,6.,9.],[4.,8.,12.]]))\n"
   ]
  },
  {
   "cell_type": "code",
   "execution_count": 14,
   "metadata": {
    "collapsed": true
   },
   "outputs": [],
   "source": [
    "l1_penalty_values = [1.4e8, 1.64e8, 1.73e8, 1.9e8, 2.3e8]"
   ]
  },
  {
   "cell_type": "code",
   "execution_count": 94,
   "metadata": {
    "collapsed": true
   },
   "outputs": [],
   "source": [
    "simple_features = ['sqft_living', 'bedrooms']\n",
    "my_output = 'price'\n",
    "(simple_feature_matrix, output) = get_numpy_data(sales, simple_features, my_output)"
   ]
  },
  {
   "cell_type": "code",
   "execution_count": 95,
   "metadata": {
    "collapsed": false
   },
   "outputs": [
    {
     "name": "stdout",
     "output_type": "stream",
     "text": [
      "[  1.47013605e+02   3.34257264e+05   5.14075870e+02]\n",
      "[[ 0.00680209  0.00353021  0.00583571]\n",
      " [ 0.00680209  0.00768869  0.00583571]\n",
      " [ 0.00680209  0.00230361  0.00389048]\n",
      " ..., \n",
      " [ 0.00680209  0.00305154  0.00389048]\n",
      " [ 0.00680209  0.00478673  0.00583571]\n",
      " [ 0.00680209  0.00305154  0.00389048]]\n"
     ]
    }
   ],
   "source": [
    "simple_feature_matrix, norms = normalize_features(simple_feature_matrix)"
   ]
  },
  {
   "cell_type": "code",
   "execution_count": 74,
   "metadata": {
    "collapsed": true
   },
   "outputs": [],
   "source": [
    "weights = np.array([1., 4., 1.])"
   ]
  },
  {
   "cell_type": "code",
   "execution_count": 88,
   "metadata": {
    "collapsed": false
   },
   "outputs": [],
   "source": [
    "\n"
   ]
  },
  {
   "cell_type": "code",
   "execution_count": 109,
   "metadata": {
    "collapsed": false
   },
   "outputs": [
    {
     "name": "stdout",
     "output_type": "stream",
     "text": [
      "[0.0, 0.0, 0.0]\n",
      "79400300.9785\n"
     ]
    },
    {
     "name": "stderr",
     "output_type": "stream",
     "text": [
      "/Users/tatyanalarikova/anaconda/lib/python2.7/site-packages/ipykernel/__main__.py:5: DeprecationWarning: using a non-integer number instead of an integer will result in an error in the future\n"
     ]
    }
   ],
   "source": [
    "\n",
    "ro = [0., 0., 0.]\n",
    "print ro\n",
    "i = 0\n",
    "ro[i] = ([simple_feature_matrix[:,i]]*(output.astype(int) - prediction + weights[i]*[simple_feature_matrix[:,i]])).sum()\n",
    "print ro[i]        "
   ]
  },
  {
   "cell_type": "code",
   "execution_count": 143,
   "metadata": {
    "collapsed": false
   },
   "outputs": [
    {
     "name": "stdout",
     "output_type": "stream",
     "text": [
      "87939471.767\n",
      "87939471.767\n",
      "87939471.767\n",
      "87939471.767\n",
      "87939471.767\n"
     ]
    },
    {
     "ename": "NameError",
     "evalue": "name 'real_l1_penalty1' is not defined",
     "output_type": "error",
     "traceback": [
      "\u001b[0;31m---------------------------------------------------------------------------\u001b[0m",
      "\u001b[0;31mNameError\u001b[0m                                 Traceback (most recent call last)",
      "\u001b[0;32m<ipython-input-143-ae7eb983e264>\u001b[0m in \u001b[0;36m<module>\u001b[0;34m()\u001b[0m\n\u001b[1;32m     14\u001b[0m         \u001b[0mreal_l1_penalty1\u001b[0m \u001b[0;34m=\u001b[0m\u001b[0ml1_penalty\u001b[0m\u001b[0;34m\u001b[0m\u001b[0m\n\u001b[1;32m     15\u001b[0m         \u001b[0;32mprint\u001b[0m \u001b[0mreal_l1_penalty1\u001b[0m\u001b[0;34m\u001b[0m\u001b[0m\n\u001b[0;32m---> 16\u001b[0;31m \u001b[0;32mprint\u001b[0m \u001b[0mreal_l1_penalty1\u001b[0m\u001b[0;34m\u001b[0m\u001b[0m\n\u001b[0m",
      "\u001b[0;31mNameError\u001b[0m: name 'real_l1_penalty1' is not defined"
     ]
    }
   ],
   "source": [
    "weights = np.array([1., 4., 0.]).astype(int)\n",
    "for l1_penalty in l1_penalty_values:\n",
    "    i = 1 \n",
    "    ro[i] = ([simple_feature_matrix[:,i]]*(output - prediction + np.dot(weights[i],[simple_feature_matrix[:,i]]))).sum()\n",
    "     \n",
    "    #i = 2\n",
    "    \n",
    "    #ro[i]= ([simple_feature_matrix[:,i]]*(output - prediction + np.dot(weights[i],[simple_feature_matrix[:,i]]))).sum()\n",
    "    print ro[i] \n",
    "    if weights[i] == ro[2] + l1_penalty/2:\n",
    "        real_l1_penalty1 =l1_penalty\n",
    "        \n",
    "    elif ro[i] - l1_penalty/2 ==  weights[i]:\n",
    "        real_l1_penalty1 =l1_penalty\n",
    "        print real_l1_penalty1\n",
    "print real_l1_penalty1        "
   ]
  },
  {
   "cell_type": "code",
   "execution_count": null,
   "metadata": {
    "collapsed": true
   },
   "outputs": [],
   "source": [
    "def lasso_coordinate_descent_step(i, feature_matrix, output, weights, l1_penalty):\n",
    "    # compute prediction\n",
    "    prediction = predict_outcome(simple_feature_matrix, weights)\n",
    "    # compute ro[i] = SUM[ [feature_i]*(output - prediction + weight[i]*[feature_i]) ]\n",
    "    ro_i = ([simple_feature_matrix[:,i]]*(output - prediction + np.dot(weights[i],[simple_feature_matrix[:,i]]))).sum()\n",
    "\n",
    "    if i == 0: # intercept -- do not regularize\n",
    "        new_weight_i = ro_i \n",
    "    elif ro_i < -l1_penalty/2.:\n",
    "        new_weight_i = ...\n",
    "    elif ro_i > l1_penalty/2.:\n",
    "        new_weight_i = ...\n",
    "    else:\n",
    "        new_weight_i = 0.\n",
    "    \n",
    "    return new_weight_i"
   ]
  }
 ],
 "metadata": {
  "kernelspec": {
   "display_name": "Python 2",
   "language": "python",
   "name": "python2"
  },
  "language_info": {
   "codemirror_mode": {
    "name": "ipython",
    "version": 2
   },
   "file_extension": ".py",
   "mimetype": "text/x-python",
   "name": "python",
   "nbconvert_exporter": "python",
   "pygments_lexer": "ipython2",
   "version": "2.7.11"
  }
 },
 "nbformat": 4,
 "nbformat_minor": 0
}
