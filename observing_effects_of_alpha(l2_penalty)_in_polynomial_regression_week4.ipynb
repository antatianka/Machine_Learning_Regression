{
 "cells": [
  {
   "cell_type": "code",
   "execution_count": 6,
   "metadata": {
    "collapsed": false
   },
   "outputs": [],
   "source": [
    "import pandas as pd\n",
    "from sklearn import  linear_model\n",
    "import numpy as np\n",
    "import matplotlib.pyplot as plt\n",
    "from matplotlib import pyplot as plt\n",
    "%matplotlib inline\n",
    "import seaborn as sns\n",
    "import math\n",
    "from sklearn.linear_model import Ridge\n",
    "from sklearn.cross_validation import KFold\n",
    "import numpy as np"
   ]
  },
  {
   "cell_type": "code",
   "execution_count": 7,
   "metadata": {
    "collapsed": false
   },
   "outputs": [],
   "source": [
    "def polynomial_dataframe(feature, degree): # feature is pandas.Series type\n",
    "    # assume that degree >= 1\n",
    "    # initialize the dataframe:\n",
    "    poly_dataframe = pd.DataFrame()\n",
    "    # and set poly_dataframe['power_1'] equal to the passed feature\n",
    "    poly_dataframe['power_1'] = feature\n",
    "    # first check if degree > 1\n",
    "    if degree > 1:\n",
    "        # then loop over the remaining degrees:\n",
    "        for power in range(2, degree+1):\n",
    "            # first we'll give the column a name:\n",
    "            name = 'power_' + str(power)\n",
    "            # assign poly_dataframe[name] to be feature^power; use apply(*)\n",
    "            poly_dataframe[name] = feature.apply(lambda x: int(x)**power)\n",
    "            \n",
    "    return poly_dataframe\n"
   ]
  },
  {
   "cell_type": "code",
   "execution_count": 8,
   "metadata": {
    "collapsed": false
   },
   "outputs": [
    {
     "name": "stderr",
     "output_type": "stream",
     "text": [
      "/Users/tatyanalarikova/anaconda/lib/python2.7/site-packages/ipykernel/__main__.py:2: FutureWarning: sort(columns=....) is deprecated, use sort_values(by=.....)\n",
      "  from ipykernel import kernelapp as app\n"
     ]
    }
   ],
   "source": [
    "sales = pd.read_csv('kc_house_data.csv', dtype=dict)\n",
    "sales = sales.sort(['sqft_living','price'])"
   ]
  },
  {
   "cell_type": "code",
   "execution_count": 9,
   "metadata": {
    "collapsed": false
   },
   "outputs": [
    {
     "data": {
      "text/plain": [
       "Ridge(alpha=1.5e-05, copy_X=True, fit_intercept=True, max_iter=None,\n",
       "   normalize=True, random_state=None, solver='auto', tol=0.001)"
      ]
     },
     "execution_count": 9,
     "metadata": {},
     "output_type": "execute_result"
    }
   ],
   "source": [
    "l2_small_penalty = 1.5e-5\n",
    "poly15_data = polynomial_dataframe(sales['sqft_living'], 15) # use equivalent of `polynomial_sframe`\n",
    "model = Ridge(l2_small_penalty, normalize=True)\n",
    "model.fit(poly15_data, sales['price'])"
   ]
  },
  {
   "cell_type": "code",
   "execution_count": 10,
   "metadata": {
    "collapsed": false
   },
   "outputs": [],
   "source": [
    "#Create a function that prints the polynomial coefficients in a pretty way :)\n",
    "def print_coefficients(model):    \n",
    "    # Get the degree of the polynomial\n",
    "    #print model.coef_\n",
    "    deg = len(model.coef_)\n",
    "    \n",
    "    # Get learned parameters as a list\n",
    "    w = [model.intercept_] + list(model.coef_) \n",
    "\n",
    "    # Numpy has a nifty function to print out polynomials in a pretty way\n",
    "    # (We'll use it, but it needs the parameters in the reverse order)\n",
    "    print 'Learned polynomial for degree ' + str(deg) + ':'\n",
    "    w.reverse()\n",
    "    print np.poly1d(w)\n"
   ]
  },
  {
   "cell_type": "code",
   "execution_count": 11,
   "metadata": {
    "collapsed": false
   },
   "outputs": [
    {
     "name": "stdout",
     "output_type": "stream",
     "text": [
      "Learned polynomial for degree 15:\n",
      "           15             14             13             12\n",
      "1.398e-54 x  + 3.782e-51 x  - 1.078e-46 x  - 2.724e-42 x \n",
      "             11             10             9            8             7\n",
      " - 3.88e-38 x  - 3.279e-34 x  + 6.526e-31 x + 8.28e-26 x + 1.511e-21 x\n",
      "              6             5             4             3           2\n",
      " + 8.541e-18 x - 1.942e-13 x - 2.444e-09 x + 3.014e-05 x - 0.04774 x + 124.9 x + 2.207e+05\n"
     ]
    }
   ],
   "source": [
    "print_coefficients(model)"
   ]
  },
  {
   "cell_type": "code",
   "execution_count": 12,
   "metadata": {
    "collapsed": false
   },
   "outputs": [
    {
     "name": "stderr",
     "output_type": "stream",
     "text": [
      "/Users/tatyanalarikova/anaconda/lib/python2.7/site-packages/ipykernel/__main__.py:3: FutureWarning: sort(columns=....) is deprecated, use sort_values(by=.....)\n",
      "  app.launch_new_instance()\n"
     ]
    }
   ],
   "source": [
    "# dtype_dict same as above\n",
    "set_1 = pd.read_csv('wk3_kc_house_set_1_data.csv', dtype=dict)\n",
    "set_1 = set_1.sort(['sqft_living','price'])\n",
    "\n",
    "set_2 = pd.read_csv('wk3_kc_house_set_2_data.csv', dtype=dict)\n",
    "set_3 = pd.read_csv('wk3_kc_house_set_3_data.csv', dtype=dict)\n",
    "set_4 = pd.read_csv('wk3_kc_house_set_4_data.csv', dtype=dict)"
   ]
  },
  {
   "cell_type": "code",
   "execution_count": 13,
   "metadata": {
    "collapsed": false
   },
   "outputs": [
    {
     "data": {
      "text/plain": [
       "Ridge(alpha=1e-09, copy_X=True, fit_intercept=True, max_iter=None,\n",
       "   normalize=True, random_state=None, solver='auto', tol=0.001)"
      ]
     },
     "execution_count": 13,
     "metadata": {},
     "output_type": "execute_result"
    }
   ],
   "source": [
    "l2_small_penalty=1e-9\n",
    "\n",
    "poly15_features_set = polynomial_dataframe(set_1['sqft_living'], 15) # use equivalent of `polynomial_sframe`\n",
    "model = Ridge(l2_small_penalty, normalize=True)\n",
    "model.fit(poly15_features_set, set_1['price'])"
   ]
  },
  {
   "cell_type": "code",
   "execution_count": 14,
   "metadata": {
    "collapsed": false
   },
   "outputs": [],
   "source": [
    "def plot_data(data): \n",
    "    predictors = 'sqft_living'\n",
    "    \n",
    "    \n",
    "    \n",
    "    plt.plot(data[predictors],data['price'],'k.')\n",
    "    plt.xlabel(predictors)\n",
    "    plt.ylabel('price')\n",
    "\n"
   ]
  },
  {
   "cell_type": "code",
   "execution_count": 15,
   "metadata": {
    "collapsed": false
   },
   "outputs": [],
   "source": [
    "def plot_poly_predictions(data, model):\n",
    "    plot_data(data)\n",
    "    \n",
    "    # Get the degree of the polynomial\n",
    "    deg = len(model.coef_)\n",
    "    \n",
    "    predictors = 'sqft_living'\n",
    "    \n",
    "    # Create 200 points in the x axis and compute the predicted value for each point\n",
    "    x_pred = data[predictors]\n",
    "    \n",
    "    y_pred = model.predict(poly15_features_set)\n",
    "    \n",
    "    # plot predictions\n",
    "    plt.plot(data[predictors], y_pred, 'g-', label='degree ' + str(deg) + ' fit')\n",
    "    plt.legend(loc='upper left')\n",
    "    #plt.axis([0,1,-1.5,2])\n"
   ]
  },
  {
   "cell_type": "code",
   "execution_count": 16,
   "metadata": {
    "collapsed": false
   },
   "outputs": [
    {
     "data": {
      "image/png": "[encoded data removed]",
      "text/plain": [
       "<matplotlib.figure.Figure at 0x11b390d50>"
      ]
     },
     "metadata": {},
     "output_type": "display_data"
    }
   ],
   "source": [
    "plot_poly_predictions(set_1, model)"
   ]
  },
  {
   "cell_type": "code",
   "execution_count": 17,
   "metadata": {
    "collapsed": false
   },
   "outputs": [
    {
     "name": "stdout",
     "output_type": "stream",
     "text": [
      "Learned polynomial for degree 15:\n",
      "            15             14             13           12\n",
      "-3.352e-53 x  + 2.538e-49 x  + 5.566e-45 x  + 3.4e-41 x \n",
      "              11             10             9             8\n",
      " - 3.718e-37 x  - 1.041e-32 x  - 7.572e-29 x + 6.875e-25 x\n",
      "              7             6             5             4             3\n",
      " + 1.479e-20 x - 1.391e-17 x - 3.905e-13 x - 1.172e-08 x + 0.0001224 x\n",
      "           2\n",
      " - 0.3554 x + 544.7 x + 2.389e+04\n"
     ]
    }
   ],
   "source": [
    "print_coefficients(model)"
   ]
  },
  {
   "cell_type": "code",
   "execution_count": 18,
   "metadata": {
    "collapsed": false
   },
   "outputs": [
    {
     "data": {
      "text/plain": [
       "Ridge(alpha=1e-09, copy_X=True, fit_intercept=True, max_iter=None,\n",
       "   normalize=True, random_state=None, solver='auto', tol=0.001)"
      ]
     },
     "execution_count": 18,
     "metadata": {},
     "output_type": "execute_result"
    }
   ],
   "source": [
    "l2_small_penalty=1e-9\n",
    "\n",
    "poly15_features_set  = polynomial_dataframe(set_2['sqft_living'], 15) # use equivalent of `polynomial_sframe`\n",
    "model = Ridge(l2_small_penalty, normalize=True)\n",
    "model.fit(poly15_features_set, set_2['price'])"
   ]
  },
  {
   "cell_type": "code",
   "execution_count": 19,
   "metadata": {
    "collapsed": false
   },
   "outputs": [
    {
     "data": {
      "image/png": "[encoded data removed]",
      "text/plain": [
       "<matplotlib.figure.Figure at 0x11eca3550>"
      ]
     },
     "metadata": {},
     "output_type": "display_data"
    }
   ],
   "source": [
    "plot_poly_predictions(set_2, model)"
   ]
  },
  {
   "cell_type": "code",
   "execution_count": 20,
   "metadata": {
    "collapsed": false
   },
   "outputs": [
    {
     "name": "stdout",
     "output_type": "stream",
     "text": [
      "Learned polynomial for degree 15:\n",
      "           15             14             13            12\n",
      "1.665e-50 x  - 1.388e-46 x  - 1.295e-42 x  + 3.28e-41 x \n",
      "              11             10             9             8\n",
      " + 9.259e-35 x  + 7.443e-31 x  - 1.446e-27 x - 6.308e-23 x\n",
      "              7            6             5             4             3\n",
      " - 1.427e-19 x + 3.74e-15 x - 2.696e-12 x - 9.128e-08 x + 0.0004289 x\n",
      "           2\n",
      " - 0.8181 x + 859.4 x - 5.561e+04\n"
     ]
    }
   ],
   "source": [
    "print_coefficients(model)"
   ]
  },
  {
   "cell_type": "code",
   "execution_count": 21,
   "metadata": {
    "collapsed": false
   },
   "outputs": [
    {
     "data": {
      "text/plain": [
       "Ridge(alpha=1e-09, copy_X=True, fit_intercept=True, max_iter=None,\n",
       "   normalize=True, random_state=None, solver='auto', tol=0.001)"
      ]
     },
     "execution_count": 21,
     "metadata": {},
     "output_type": "execute_result"
    }
   ],
   "source": [
    "l2_small_penalty=1e-9\n",
    "\n",
    "poly15_features_set  = polynomial_dataframe(set_3['sqft_living'], 15) # use equivalent of `polynomial_sframe`\n",
    "model = Ridge(l2_small_penalty, normalize=True)\n",
    "model.fit(poly15_features_set, set_3['price'])"
   ]
  },
  {
   "cell_type": "code",
   "execution_count": 22,
   "metadata": {
    "collapsed": false
   },
   "outputs": [
    {
     "data": {
      "image/png": "[encoded data removed]",
      "text/plain": [
       "<matplotlib.figure.Figure at 0x11ee190d0>"
      ]
     },
     "metadata": {},
     "output_type": "display_data"
    }
   ],
   "source": [
    "plot_poly_predictions(set_3, model)\n"
   ]
  },
  {
   "cell_type": "code",
   "execution_count": 23,
   "metadata": {
    "collapsed": false
   },
   "outputs": [
    {
     "name": "stdout",
     "output_type": "stream",
     "text": [
      "Learned polynomial for degree 15:\n",
      "            15             14             13             12\n",
      "-3.933e-51 x  + 5.085e-47 x  + 3.191e-43 x  - 1.802e-39 x \n",
      "             11             10             9             8\n",
      " - 4.16e-35 x  - 1.971e-31 x  + 2.192e-27 x + 3.381e-23 x\n",
      "              7             6            5            4             3\n",
      " - 2.137e-20 x - 2.886e-15 x + 7.15e-12 x + 7.78e-08 x - 0.0004589 x\n",
      "           2\n",
      " + 0.9756 x - 755.4 x + 4.71e+05\n"
     ]
    }
   ],
   "source": [
    "print_coefficients(model)"
   ]
  },
  {
   "cell_type": "code",
   "execution_count": 24,
   "metadata": {
    "collapsed": false
   },
   "outputs": [
    {
     "data": {
      "text/plain": [
       "Ridge(alpha=1e-09, copy_X=True, fit_intercept=True, max_iter=None,\n",
       "   normalize=True, random_state=None, solver='auto', tol=0.001)"
      ]
     },
     "execution_count": 24,
     "metadata": {},
     "output_type": "execute_result"
    }
   ],
   "source": [
    "l2_small_penalty=1e-9\n",
    "\n",
    "poly15_features_set  = polynomial_dataframe(set_4['sqft_living'], 15) # use equivalent of `polynomial_sframe`\n",
    "model = Ridge(l2_small_penalty, normalize=True)\n",
    "model.fit(poly15_features_set, set_4['price'])"
   ]
  },
  {
   "cell_type": "code",
   "execution_count": 167,
   "metadata": {
    "collapsed": false
   },
   "outputs": [
    {
     "data": {
      "image/png": "[encoded data removed]",
      "text/plain": [
       "<matplotlib.figure.Figure at 0x119cca890>"
      ]
     },
     "metadata": {},
     "output_type": "display_data"
    }
   ],
   "source": [
    "plot_poly_predictions(set_4, model)"
   ]
  },
  {
   "cell_type": "code",
   "execution_count": 168,
   "metadata": {
    "collapsed": false
   },
   "outputs": [
    {
     "name": "stdout",
     "output_type": "stream",
     "text": [
      "Learned polynomial for degree 15:\n",
      "           15             14            13             12            11\n",
      "6.446e-50 x  - 8.796e-46 x  - 2.43e-42 x  + 3.477e-38 x  + 3.31e-34 x \n",
      "              10            9             8             7             6\n",
      " - 2.109e-32 x  - 1.96e-26 x - 9.493e-23 x + 7.668e-19 x + 5.772e-15 x\n",
      "              5             4             3          2\n",
      " - 4.378e-11 x + 3.604e-08 x + 0.0003388 x - 0.9838 x + 1119 x - 1.457e+05\n"
     ]
    }
   ],
   "source": [
    "print_coefficients(model)"
   ]
  },
  {
   "cell_type": "code",
   "execution_count": 25,
   "metadata": {
    "collapsed": true
   },
   "outputs": [],
   "source": [
    "l2_large_penalty=1.23e2\n"
   ]
  },
  {
   "cell_type": "code",
   "execution_count": 26,
   "metadata": {
    "collapsed": false
   },
   "outputs": [
    {
     "data": {
      "text/plain": [
       "Ridge(alpha=123.0, copy_X=True, fit_intercept=True, max_iter=None,\n",
       "   normalize=True, random_state=None, solver='auto', tol=0.001)"
      ]
     },
     "execution_count": 26,
     "metadata": {},
     "output_type": "execute_result"
    }
   ],
   "source": [
    "poly15_features_set = polynomial_dataframe(set_1['sqft_living'], 15) # use equivalent of `polynomial_sframe`\n",
    "model = Ridge(l2_large_penalty, normalize=True)\n",
    "model.fit(poly15_features_set, set_1['price'])"
   ]
  },
  {
   "cell_type": "code",
   "execution_count": 27,
   "metadata": {
    "collapsed": false
   },
   "outputs": [
    {
     "data": {
      "image/png": "[encoded data removed]",
      "text/plain": [
       "<matplotlib.figure.Figure at 0x11efa5250>"
      ]
     },
     "metadata": {},
     "output_type": "display_data"
    }
   ],
   "source": [
    "plot_poly_predictions(set_1, model)"
   ]
  },
  {
   "cell_type": "code",
   "execution_count": 28,
   "metadata": {
    "collapsed": false
   },
   "outputs": [
    {
     "name": "stdout",
     "output_type": "stream",
     "text": [
      "Learned polynomial for degree 15:\n",
      "           15             14             13             12\n",
      "1.995e-58 x  + 2.855e-54 x  + 4.095e-50 x  + 5.895e-46 x \n",
      "              11             10             9             8\n",
      " + 8.519e-42 x  + 1.238e-37 x  + 1.816e-33 x + 2.704e-29 x\n",
      "              7             6             5             4            3\n",
      " + 4.129e-25 x + 6.578e-21 x + 1.115e-16 x + 2.001e-12 x + 3.32e-08 x\n",
      "              2\n",
      " + 0.0003536 x + 2.328 x + 5.391e+05\n"
     ]
    }
   ],
   "source": [
    "print_coefficients(model)"
   ]
  },
  {
   "cell_type": "code",
   "execution_count": 29,
   "metadata": {
    "collapsed": false
   },
   "outputs": [
    {
     "data": {
      "text/plain": [
       "Ridge(alpha=123.0, copy_X=True, fit_intercept=True, max_iter=None,\n",
       "   normalize=True, random_state=None, solver='auto', tol=0.001)"
      ]
     },
     "execution_count": 29,
     "metadata": {},
     "output_type": "execute_result"
    }
   ],
   "source": [
    "poly15_features_set = polynomial_dataframe(set_2['sqft_living'], 15) # use equivalent of `polynomial_sframe`\n",
    "model = Ridge(l2_large_penalty, normalize=True)\n",
    "model.fit(poly15_features_set, set_2['price'])"
   ]
  },
  {
   "cell_type": "code",
   "execution_count": 30,
   "metadata": {
    "collapsed": false
   },
   "outputs": [
    {
     "data": {
      "image/png": "[encoded data removed]",
      "text/plain": [
       "<matplotlib.figure.Figure at 0x11ef26510>"
      ]
     },
     "metadata": {},
     "output_type": "display_data"
    }
   ],
   "source": [
    "plot_poly_predictions(set_2, model)"
   ]
  },
  {
   "cell_type": "code",
   "execution_count": 31,
   "metadata": {
    "collapsed": false
   },
   "outputs": [
    {
     "name": "stdout",
     "output_type": "stream",
     "text": [
      "Learned polynomial for degree 15:\n",
      "          15             14             13             12\n",
      "1.32e-55 x  + 1.232e-51 x  + 1.155e-47 x  + 1.087e-43 x \n",
      "              11             10             9             8\n",
      " + 1.031e-39 x  + 9.869e-36 x  + 9.572e-32 x + 9.445e-28 x\n",
      "              7             6             5           4             3\n",
      " + 9.506e-24 x + 9.697e-20 x + 9.726e-16 x + 8.9e-12 x + 6.672e-08 x\n",
      "              2\n",
      " + 0.0003908 x + 2.098 x + 5.299e+05\n"
     ]
    }
   ],
   "source": [
    "print_coefficients(model)"
   ]
  },
  {
   "cell_type": "code",
   "execution_count": 32,
   "metadata": {
    "collapsed": false
   },
   "outputs": [
    {
     "data": {
      "text/plain": [
       "Ridge(alpha=123.0, copy_X=True, fit_intercept=True, max_iter=None,\n",
       "   normalize=True, random_state=None, solver='auto', tol=0.001)"
      ]
     },
     "execution_count": 32,
     "metadata": {},
     "output_type": "execute_result"
    }
   ],
   "source": [
    "poly15_features_set = polynomial_dataframe(set_3['sqft_living'], 15) # use equivalent of `polynomial_sframe`\n",
    "model = Ridge(l2_large_penalty, normalize=True)\n",
    "model.fit(poly15_features_set, set_3['price'])"
   ]
  },
  {
   "cell_type": "code",
   "execution_count": 33,
   "metadata": {
    "collapsed": false
   },
   "outputs": [
    {
     "data": {
      "image/png": "[encoded data removed]",
      "text/plain": [
       "<matplotlib.figure.Figure at 0x11fde9510>"
      ]
     },
     "metadata": {},
     "output_type": "display_data"
    }
   ],
   "source": [
    "plot_poly_predictions(set_3, model)"
   ]
  },
  {
   "cell_type": "code",
   "execution_count": 34,
   "metadata": {
    "collapsed": false
   },
   "outputs": [
    {
     "name": "stdout",
     "output_type": "stream",
     "text": [
      "Learned polynomial for degree 15:\n",
      "           15             14             13             12\n",
      "4.876e-56 x  + 4.859e-52 x  + 4.846e-48 x  + 4.842e-44 x \n",
      "             11            10             9             8             7\n",
      " + 4.85e-40 x  + 4.88e-36 x  + 4.947e-32 x + 5.071e-28 x + 5.288e-24 x\n",
      "              6             5             4             3             2\n",
      " + 5.644e-20 x + 6.153e-16 x + 6.586e-12 x + 6.088e-08 x + 0.0004125 x + 2.289 x + 5.336e+05\n"
     ]
    }
   ],
   "source": [
    "print_coefficients(model)"
   ]
  },
  {
   "cell_type": "code",
   "execution_count": 35,
   "metadata": {
    "collapsed": false
   },
   "outputs": [
    {
     "data": {
      "text/plain": [
       "Ridge(alpha=123.0, copy_X=True, fit_intercept=True, max_iter=None,\n",
       "   normalize=True, random_state=None, solver='auto', tol=0.001)"
      ]
     },
     "execution_count": 35,
     "metadata": {},
     "output_type": "execute_result"
    }
   ],
   "source": [
    "poly15_features_set = polynomial_dataframe(set_4['sqft_living'], 15) # use equivalent of `polynomial_sframe`\n",
    "model = Ridge(l2_large_penalty, normalize=True)\n",
    "model.fit(poly15_features_set, set_4['price'])"
   ]
  },
  {
   "cell_type": "code",
   "execution_count": 36,
   "metadata": {
    "collapsed": false
   },
   "outputs": [
    {
     "data": {
      "image/png": "[encoded data removed]",
      "text/plain": [
       "<matplotlib.figure.Figure at 0x11ef61f10>"
      ]
     },
     "metadata": {},
     "output_type": "display_data"
    }
   ],
   "source": [
    "plot_poly_predictions(set_4, model)"
   ]
  },
  {
   "cell_type": "code",
   "execution_count": 37,
   "metadata": {
    "collapsed": false
   },
   "outputs": [
    {
     "name": "stdout",
     "output_type": "stream",
     "text": [
      "Learned polynomial for degree 15:\n",
      "           15            14             13             12            11\n",
      "8.308e-55 x  + 6.86e-51 x  + 5.672e-47 x  + 4.701e-43 x  + 3.91e-39 x \n",
      "             10             9             8             7             6\n",
      " + 3.27e-35 x  + 2.756e-31 x + 2.346e-27 x + 2.016e-23 x + 1.736e-19 x\n",
      "              5             4             3            2\n",
      " + 1.459e-15 x + 1.131e-11 x + 7.469e-08 x + 0.000405 x + 2.086 x + 5.246e+05\n"
     ]
    }
   ],
   "source": [
    "print_coefficients(model)"
   ]
  },
  {
   "cell_type": "code",
   "execution_count": 38,
   "metadata": {
    "collapsed": false
   },
   "outputs": [],
   "source": [
    "train_valid_shuffled = pd.read_csv('wk3_kc_house_train_valid_shuffled.csv', dtype=dict)\n",
    "test = pd.read_csv('wk3_kc_house_test_data.csv', dtype=dict)"
   ]
  },
  {
   "cell_type": "code",
   "execution_count": 39,
   "metadata": {
    "collapsed": false
   },
   "outputs": [
    {
     "data": {
      "text/html": [
       "<div>\n",
       "<table border=\"1\" class=\"dataframe\">\n",
       "  <thead>\n",
       "    <tr style=\"text-align: right;\">\n",
       "      <th></th>\n",
       "      <th>id</th>\n",
       "      <th>date</th>\n",
       "      <th>price</th>\n",
       "      <th>bedrooms</th>\n",
       "      <th>bathrooms</th>\n",
       "      <th>sqft_living</th>\n",
       "      <th>sqft_lot</th>\n",
       "      <th>floors</th>\n",
       "      <th>waterfront</th>\n",
       "      <th>view</th>\n",
       "      <th>...</th>\n",
       "      <th>grade</th>\n",
       "      <th>sqft_above</th>\n",
       "      <th>sqft_basement</th>\n",
       "      <th>yr_built</th>\n",
       "      <th>yr_renovated</th>\n",
       "      <th>zipcode</th>\n",
       "      <th>lat</th>\n",
       "      <th>long</th>\n",
       "      <th>sqft_living15</th>\n",
       "      <th>sqft_lot15</th>\n",
       "    </tr>\n",
       "  </thead>\n",
       "  <tbody>\n",
       "    <tr>\n",
       "      <th>0</th>\n",
       "      <td>2780400035</td>\n",
       "      <td>20140505T000000</td>\n",
       "      <td>665000</td>\n",
       "      <td>4</td>\n",
       "      <td>2.5</td>\n",
       "      <td>2800</td>\n",
       "      <td>5900</td>\n",
       "      <td>1</td>\n",
       "      <td>0</td>\n",
       "      <td>0</td>\n",
       "      <td>...</td>\n",
       "      <td>8</td>\n",
       "      <td>1660</td>\n",
       "      <td>1140</td>\n",
       "      <td>1963</td>\n",
       "      <td>0</td>\n",
       "      <td>98115</td>\n",
       "      <td>47.6809</td>\n",
       "      <td>-122.286</td>\n",
       "      <td>2580</td>\n",
       "      <td>5900</td>\n",
       "    </tr>\n",
       "    <tr>\n",
       "      <th>1</th>\n",
       "      <td>1703050500</td>\n",
       "      <td>20150321T000000</td>\n",
       "      <td>645000</td>\n",
       "      <td>3</td>\n",
       "      <td>2.5</td>\n",
       "      <td>2490</td>\n",
       "      <td>5978</td>\n",
       "      <td>2</td>\n",
       "      <td>0</td>\n",
       "      <td>0</td>\n",
       "      <td>...</td>\n",
       "      <td>9</td>\n",
       "      <td>2490</td>\n",
       "      <td>0</td>\n",
       "      <td>2003</td>\n",
       "      <td>0</td>\n",
       "      <td>98074</td>\n",
       "      <td>47.6298</td>\n",
       "      <td>-122.022</td>\n",
       "      <td>2710</td>\n",
       "      <td>6629</td>\n",
       "    </tr>\n",
       "    <tr>\n",
       "      <th>2</th>\n",
       "      <td>5700002325</td>\n",
       "      <td>20140605T000000</td>\n",
       "      <td>640000</td>\n",
       "      <td>3</td>\n",
       "      <td>1.75</td>\n",
       "      <td>2340</td>\n",
       "      <td>4206</td>\n",
       "      <td>1</td>\n",
       "      <td>0</td>\n",
       "      <td>0</td>\n",
       "      <td>...</td>\n",
       "      <td>7</td>\n",
       "      <td>1170</td>\n",
       "      <td>1170</td>\n",
       "      <td>1917</td>\n",
       "      <td>0</td>\n",
       "      <td>98144</td>\n",
       "      <td>47.5759</td>\n",
       "      <td>-122.288</td>\n",
       "      <td>1360</td>\n",
       "      <td>4725</td>\n",
       "    </tr>\n",
       "    <tr>\n",
       "      <th>3</th>\n",
       "      <td>0475000510</td>\n",
       "      <td>20141118T000000</td>\n",
       "      <td>594000</td>\n",
       "      <td>3</td>\n",
       "      <td>1</td>\n",
       "      <td>1320</td>\n",
       "      <td>5000</td>\n",
       "      <td>1</td>\n",
       "      <td>0</td>\n",
       "      <td>0</td>\n",
       "      <td>...</td>\n",
       "      <td>7</td>\n",
       "      <td>1090</td>\n",
       "      <td>230</td>\n",
       "      <td>1920</td>\n",
       "      <td>0</td>\n",
       "      <td>98107</td>\n",
       "      <td>47.6674</td>\n",
       "      <td>-122.365</td>\n",
       "      <td>1700</td>\n",
       "      <td>5000</td>\n",
       "    </tr>\n",
       "    <tr>\n",
       "      <th>4</th>\n",
       "      <td>0844001052</td>\n",
       "      <td>20150128T000000</td>\n",
       "      <td>365000</td>\n",
       "      <td>4</td>\n",
       "      <td>2.5</td>\n",
       "      <td>1904</td>\n",
       "      <td>8200</td>\n",
       "      <td>2</td>\n",
       "      <td>0</td>\n",
       "      <td>0</td>\n",
       "      <td>...</td>\n",
       "      <td>7</td>\n",
       "      <td>1904</td>\n",
       "      <td>0</td>\n",
       "      <td>1999</td>\n",
       "      <td>0</td>\n",
       "      <td>98010</td>\n",
       "      <td>47.3107</td>\n",
       "      <td>-122.001</td>\n",
       "      <td>1560</td>\n",
       "      <td>12426</td>\n",
       "    </tr>\n",
       "    <tr>\n",
       "      <th>5</th>\n",
       "      <td>2781280290</td>\n",
       "      <td>20150427T000000</td>\n",
       "      <td>305000</td>\n",
       "      <td>3</td>\n",
       "      <td>2.5</td>\n",
       "      <td>1610</td>\n",
       "      <td>3516</td>\n",
       "      <td>2</td>\n",
       "      <td>0</td>\n",
       "      <td>0</td>\n",
       "      <td>...</td>\n",
       "      <td>8</td>\n",
       "      <td>1610</td>\n",
       "      <td>0</td>\n",
       "      <td>2006</td>\n",
       "      <td>0</td>\n",
       "      <td>98055</td>\n",
       "      <td>47.4491</td>\n",
       "      <td>-122.188</td>\n",
       "      <td>1610</td>\n",
       "      <td>3056</td>\n",
       "    </tr>\n",
       "    <tr>\n",
       "      <th>6</th>\n",
       "      <td>2214800630</td>\n",
       "      <td>20141105T000000</td>\n",
       "      <td>239950</td>\n",
       "      <td>3</td>\n",
       "      <td>2.25</td>\n",
       "      <td>1560</td>\n",
       "      <td>8280</td>\n",
       "      <td>2</td>\n",
       "      <td>0</td>\n",
       "      <td>0</td>\n",
       "      <td>...</td>\n",
       "      <td>7</td>\n",
       "      <td>1560</td>\n",
       "      <td>0</td>\n",
       "      <td>1979</td>\n",
       "      <td>0</td>\n",
       "      <td>98001</td>\n",
       "      <td>47.3393</td>\n",
       "      <td>-122.259</td>\n",
       "      <td>1920</td>\n",
       "      <td>8120</td>\n",
       "    </tr>\n",
       "    <tr>\n",
       "      <th>7</th>\n",
       "      <td>2114700540</td>\n",
       "      <td>20141021T000000</td>\n",
       "      <td>366000</td>\n",
       "      <td>3</td>\n",
       "      <td>2.5</td>\n",
       "      <td>1320</td>\n",
       "      <td>4320</td>\n",
       "      <td>1</td>\n",
       "      <td>0</td>\n",
       "      <td>0</td>\n",
       "      <td>...</td>\n",
       "      <td>6</td>\n",
       "      <td>660</td>\n",
       "      <td>660</td>\n",
       "      <td>1918</td>\n",
       "      <td>0</td>\n",
       "      <td>98106</td>\n",
       "      <td>47.5327</td>\n",
       "      <td>-122.347</td>\n",
       "      <td>1190</td>\n",
       "      <td>4200</td>\n",
       "    </tr>\n",
       "    <tr>\n",
       "      <th>8</th>\n",
       "      <td>2596400050</td>\n",
       "      <td>20140730T000000</td>\n",
       "      <td>375000</td>\n",
       "      <td>3</td>\n",
       "      <td>1</td>\n",
       "      <td>1960</td>\n",
       "      <td>7955</td>\n",
       "      <td>1</td>\n",
       "      <td>0</td>\n",
       "      <td>0</td>\n",
       "      <td>...</td>\n",
       "      <td>7</td>\n",
       "      <td>1260</td>\n",
       "      <td>700</td>\n",
       "      <td>1963</td>\n",
       "      <td>0</td>\n",
       "      <td>98177</td>\n",
       "      <td>47.7641</td>\n",
       "      <td>-122.364</td>\n",
       "      <td>1850</td>\n",
       "      <td>8219</td>\n",
       "    </tr>\n",
       "    <tr>\n",
       "      <th>9</th>\n",
       "      <td>4140900050</td>\n",
       "      <td>20150126T000000</td>\n",
       "      <td>440000</td>\n",
       "      <td>4</td>\n",
       "      <td>1.75</td>\n",
       "      <td>2180</td>\n",
       "      <td>10200</td>\n",
       "      <td>1</td>\n",
       "      <td>0</td>\n",
       "      <td>2</td>\n",
       "      <td>...</td>\n",
       "      <td>8</td>\n",
       "      <td>2000</td>\n",
       "      <td>180</td>\n",
       "      <td>1966</td>\n",
       "      <td>0</td>\n",
       "      <td>98028</td>\n",
       "      <td>47.7638</td>\n",
       "      <td>-122.27</td>\n",
       "      <td>2590</td>\n",
       "      <td>10445</td>\n",
       "    </tr>\n",
       "  </tbody>\n",
       "</table>\n",
       "<p>10 rows × 21 columns</p>\n",
       "</div>"
      ],
      "text/plain": [
       "           id             date   price bedrooms bathrooms sqft_living  \\\n",
       "0  2780400035  20140505T000000  665000        4       2.5        2800   \n",
       "1  1703050500  20150321T000000  645000        3       2.5        2490   \n",
       "2  5700002325  20140605T000000  640000        3      1.75        2340   \n",
       "3  0475000510  20141118T000000  594000        3         1        1320   \n",
       "4  0844001052  20150128T000000  365000        4       2.5        1904   \n",
       "5  2781280290  20150427T000000  305000        3       2.5        1610   \n",
       "6  2214800630  20141105T000000  239950        3      2.25        1560   \n",
       "7  2114700540  20141021T000000  366000        3       2.5        1320   \n",
       "8  2596400050  20140730T000000  375000        3         1        1960   \n",
       "9  4140900050  20150126T000000  440000        4      1.75        2180   \n",
       "\n",
       "  sqft_lot floors waterfront view    ...     grade sqft_above sqft_basement  \\\n",
       "0     5900      1          0    0    ...         8       1660          1140   \n",
       "1     5978      2          0    0    ...         9       2490             0   \n",
       "2     4206      1          0    0    ...         7       1170          1170   \n",
       "3     5000      1          0    0    ...         7       1090           230   \n",
       "4     8200      2          0    0    ...         7       1904             0   \n",
       "5     3516      2          0    0    ...         8       1610             0   \n",
       "6     8280      2          0    0    ...         7       1560             0   \n",
       "7     4320      1          0    0    ...         6        660           660   \n",
       "8     7955      1          0    0    ...         7       1260           700   \n",
       "9    10200      1          0    2    ...         8       2000           180   \n",
       "\n",
       "  yr_built yr_renovated zipcode      lat      long sqft_living15 sqft_lot15  \n",
       "0     1963            0   98115  47.6809  -122.286          2580       5900  \n",
       "1     2003            0   98074  47.6298  -122.022          2710       6629  \n",
       "2     1917            0   98144  47.5759  -122.288          1360       4725  \n",
       "3     1920            0   98107  47.6674  -122.365          1700       5000  \n",
       "4     1999            0   98010  47.3107  -122.001          1560      12426  \n",
       "5     2006            0   98055  47.4491  -122.188          1610       3056  \n",
       "6     1979            0   98001  47.3393  -122.259          1920       8120  \n",
       "7     1918            0   98106  47.5327  -122.347          1190       4200  \n",
       "8     1963            0   98177  47.7641  -122.364          1850       8219  \n",
       "9     1966            0   98028  47.7638   -122.27          2590      10445  \n",
       "\n",
       "[10 rows x 21 columns]"
      ]
     },
     "execution_count": 39,
     "metadata": {},
     "output_type": "execute_result"
    }
   ],
   "source": [
    "train_valid_shuffled[0:10] # select rows 0 to 9\n"
   ]
  },
  {
   "cell_type": "code",
   "execution_count": 40,
   "metadata": {
    "collapsed": false
   },
   "outputs": [],
   "source": [
    "\n",
    "n = len(train_valid_shuffled)\n",
    "\n",
    "k = 10 # 10-fold cross-validation\n",
    "for i in xrange(k):\n",
    "    start = (n*i)/k\n",
    "    end = (n*(i+1))/k-1\n",
    "    #print i, (start, end)\n",
    "\n",
    "    train_valid_shuffled[0:start].append(train_valid_shuffled[end+1:n])    \n",
    "    \n",
    "    valid_set =  train_valid_shuffled.append(train_valid_shuffled[start:end+1])\n",
    "    \n",
    "\n",
    "    train_set = train_valid_shuffled[0:start].append(train_valid_shuffled[end+1:n])\n",
    "    \n",
    "train_set4 = pd.DataFrame()  \n",
    "train_set4 = train_set4.append(train_set[(4*n)/k:(n*(4+1))/k-1])\n",
    "\n",
    "valid_set4 =pd.DataFrame()\n",
    "valid_set4 = valid_set4.append(valid_set[(4*n)/k:(n*(4+1))/k-1])\n",
    "\n"
   ]
  },
  {
   "cell_type": "code",
   "execution_count": 41,
   "metadata": {
    "collapsed": true
   },
   "outputs": [],
   "source": [
    "train_data= pd.read_csv('wk3_kc_house_train_data.csv')\n",
    "valid_data = pd.read_csv('wk3_kc_house_valid_data.csv')\n",
    "test_data = pd.read_csv('wk3_kc_house_test_data.csv')"
   ]
  },
  {
   "cell_type": "code",
   "execution_count": 42,
   "metadata": {
    "collapsed": false
   },
   "outputs": [
    {
     "name": "stdout",
     "output_type": "stream",
     "text": [
      "[  1.00000000e+03   3.16227766e+03   1.00000000e+04   3.16227766e+04\n",
      "   1.00000000e+05   3.16227766e+05   1.00000000e+06   3.16227766e+06\n",
      "   1.00000000e+07   3.16227766e+07   1.00000000e+08   3.16227766e+08\n",
      "   1.00000000e+09]\n"
     ]
    }
   ],
   "source": [
    "alpha_values = np.logspace(3, 9, num=13)\n",
    "\n",
    "print alpha_values"
   ]
  },
  {
   "cell_type": "code",
   "execution_count": 43,
   "metadata": {
    "collapsed": false
   },
   "outputs": [
    {
     "name": "stdout",
     "output_type": "stream",
     "text": [
      "([2.5863731900182648e+53, 3.9973559465965429e+52, 7.9517195633556071e+51, 2.770673890191806e+51, 1.674921858308641e+51, 1.3843105962161089e+51, 1.2980536274688077e+51, 1.2713426983003947e+51, 1.2629526060627587e+51, 1.2603050921461662e+51, 1.2594684414089986e+51, 1.2592039258845518e+51, 1.2591202843981427e+51], 1000000000.0)\n"
     ]
    }
   ],
   "source": [
    "def loo(k, alpha_values, data, output):\n",
    "    #n = len(data)\n",
    "    \n",
    "    \n",
    "    \n",
    "    features = polynomial_dataframe(data['sqft_living'], 15) \n",
    "    \n",
    "\n",
    "    \n",
    "    predictors = features.columns.values\n",
    "    \n",
    "    target = data[output]\n",
    "    \n",
    "    \n",
    "    result = features.join(target)\n",
    "    \n",
    "    \n",
    "    \n",
    "    folds = KFold(result.shape[0],k)\n",
    "    \n",
    "    \n",
    "    # for each value of l2_penalty, fit a model for each fold and compute average MSE\n",
    "    alpha_mse = []\n",
    "    min_mse = None\n",
    "    best_alpha = None\n",
    "    for alpha in alpha_values:\n",
    "        \n",
    "        next_mse = 0.0\n",
    "        for train_set, validation_set in folds:\n",
    "            \n",
    "            \n",
    "            # train model\n",
    "            model = linear_model.Ridge(alpha)\n",
    "            \n",
    "            train_predictors = (features.iloc[train_set, :])\n",
    "            \n",
    "    # The target  using to train the algorithm.\n",
    "            train_target = data[output].iloc[train_set]\n",
    "            \n",
    "    # Training the algorithm using the predictors and target.\n",
    "            model.fit(train_predictors, train_target)\n",
    "           \n",
    "           \n",
    "            # predict on validation set \n",
    "            y_test_predicted = model.predict(features.iloc[validation_set])\n",
    "           \n",
    "            test_target = np.array(data[output].iloc[validation_set]).astype(int)\n",
    "            test_target = test_target.astype(int)\n",
    "            \n",
    "            # compute squared error\n",
    "            next_mse += ((y_test_predicted - test_target)**2).sum()\n",
    "            \n",
    "        # save squared error in list of MSE for each alpha\n",
    "        next_mse = next_mse/k\n",
    "        alpha_mse.append(next_mse)\n",
    "        if min_mse is None or next_mse < min_mse:\n",
    "            min_mse = next_mse\n",
    "            best_alpha = alpha\n",
    "            \n",
    "    return alpha_mse,best_alpha\n",
    "print loo(10, alpha_values, train_valid_shuffled, 'price' )"
   ]
  },
  {
   "cell_type": "code",
   "execution_count": 107,
   "metadata": {
    "collapsed": false
   },
   "outputs": [
    {
     "name": "stdout",
     "output_type": "stream",
     "text": [
      "3.57960334083e+45\n"
     ]
    }
   ],
   "source": [
    "alpha_mse, best_alpha = loo(10, alpha_values, train_valid_shuffled, 'price' )\n",
    "\n",
    "   \n",
    "train_features= polynomial_dataframe(train_data['sqft_living'], 15)\n",
    "train_target = train_data['price']\n",
    "    \n",
    "model = Ridge(best_alpha)\n",
    "    \n",
    "    \n",
    "model.fit(train_features, train_target)\n",
    "test_predicted = model.predict(polynomial_dataframe(test_data['sqft_living'], 15))\n",
    "           \n",
    "test_target = np.array(test_data['price']).astype(int)\n",
    "\n",
    "RSS_test = ((test_predicted - test_target)**2).sum()\n",
    "print RSS_test"
   ]
  },
  {
   "cell_type": "code",
   "execution_count": 44,
   "metadata": {
    "collapsed": true
   },
   "outputs": [],
   "source": [
    "def plot_poly_predictions(data, model):\n",
    "    plot_data(data)\n",
    "    \n",
    "    # Get the degree of the polynomial\n",
    "    deg = len(model.coef_)\n",
    "    \n",
    "    predictors = 'sqft_living'\n",
    "    \n",
    "    # Create 200 points in the x axis and compute the predicted value for each point\n",
    "    x_pred = data[predictors]\n",
    "    \n",
    "    y_pred = model.predict(polynomial_dataframe(sales['sqft_living'], 15))\n",
    "    \n",
    "    # plot predictions\n",
    "    plt.plot(data[predictors], y_pred, 'g-', label='degree ' + str(deg) + ' fit')\n",
    "    plt.legend(loc='upper left')\n",
    "    #plt.axis([0,1,-1.5,2])\n"
   ]
  },
  {
   "cell_type": "code",
   "execution_count": 109,
   "metadata": {
    "collapsed": false
   },
   "outputs": [
    {
     "data": {
      "image/png": "[encoded data removed]",
      "text/plain": [
       "<matplotlib.figure.Figure at 0x1201254d0>"
      ]
     },
     "metadata": {},
     "output_type": "display_data"
    }
   ],
   "source": [
    "plot_poly_predictions(sales,model)"
   ]
  },
  {
   "cell_type": "code",
   "execution_count": null,
   "metadata": {
    "collapsed": true
   },
   "outputs": [],
   "source": []
  }
 ],
 "metadata": {
  "kernelspec": {
   "display_name": "Python 2",
   "language": "python",
   "name": "python2"
  },
  "language_info": {
   "codemirror_mode": {
    "name": "ipython",
    "version": 2
   },
   "file_extension": ".py",
   "mimetype": "text/x-python",
   "name": "python",
   "nbconvert_exporter": "python",
   "pygments_lexer": "ipython2",
   "version": "2.7.11"
  }
 },
 "nbformat": 4,
 "nbformat_minor": 0
}
